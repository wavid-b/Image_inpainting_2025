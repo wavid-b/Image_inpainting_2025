{
 "cells": [
  {
   "cell_type": "code",
   "execution_count": 1,
   "id": "a81cafa3-c0e4-4cc3-a0c0-f243b0906763",
   "metadata": {
    "tags": []
   },
   "outputs": [],
   "source": [
    "import numpy as np\n",
    "from sklearn.model_selection import GridSearchCV\n",
    "from scipy.ndimage import median_filter, gaussian_filter, sobel\n",
    "from sklearn.svm import SVC\n",
    "from sklearn.metrics import accuracy_score\n",
    "from sklearn.preprocessing import StandardScaler\n",
    "from sklearn.svm import LinearSVC\n",
    "\n"
   ]
  },
  {
   "cell_type": "code",
   "execution_count": 2,
   "id": "0e9b6380-30f9-44ff-a2d4-8c2a1547b10f",
   "metadata": {},
   "outputs": [
    {
     "name": "stdout",
     "output_type": "stream",
     "text": [
      "(59995, 28, 28)\n",
      "(10010, 28, 28)\n"
     ]
    }
   ],
   "source": [
    "#First step, we make our train/test split (60k each class for training, testing will be last 10k of each level + mnist) \n",
    "#we have 13 levels of obfuscation, so 4615 from each is 59995 for our label \"corrupted\"\n",
    "#we take all of the uncorrupted images from mnist for our labeled \"uncorrupted\" (first 60k) \n",
    "corrupted_imgs = np.empty((0, 28, 28))\n",
    "test_corrupted = np.empty((0, 28, 28))\n",
    "for i in range(0, 56000, 4615): \n",
    "    #take from i to i+4614 for the training set and set its label to 1 (for corrupted = true) \n",
    "    file_num = int((i/4615)*5 + 10) # get the number of the thing we should be on \n",
    "    current_np = np.load(\"mnist_noisy/mnist_\" + str(file_num) + \".npy\")\n",
    "    corrupted_imgs = np.concatenate((corrupted_imgs, current_np[i:i+4615]), axis = 0)\n",
    "    test_corrupted = np.concatenate((test_corrupted, current_np[69230:]), axis = 0)\n",
    "print(corrupted_imgs.shape)\n",
    "print(test_corrupted.shape)\n",
    "np.save(\"mnist_noisy/training\", corrupted_imgs)\n",
    "\n"
   ]
  },
  {
   "cell_type": "code",
   "execution_count": 3,
   "id": "6ccc9d60-b620-4dac-a68d-2b6c99224b8f",
   "metadata": {
    "tags": []
   },
   "outputs": [],
   "source": [
    "clean_imgs = np.load('mnist_noisy/mnist.npy') \n",
    "test_clean = clean_imgs[60000:]\n",
    "clean_imgs = clean_imgs[:60000]\n"
   ]
  },
  {
   "cell_type": "code",
   "execution_count": 4,
   "id": "b34e0d86-33b6-487f-818f-b1c5b7477a2a",
   "metadata": {
    "tags": []
   },
   "outputs": [],
   "source": [
    "#now, we combine them and add labels \n",
    "train_corrupted = 59995\n",
    "train_clean = 60000\n",
    "num_test_corrupted = 10010\n",
    "num_test_clean = 10000\n",
    "\n",
    "train_data = np.concatenate((corrupted_imgs, clean_imgs), axis = 0)\n",
    "train_labels = np.concatenate([np.ones(train_corrupted), np.zeros(train_clean)])\n",
    "test_data = np.concatenate((test_corrupted, test_clean), axis = 0)\n",
    "test_labels = np.concatenate([np.ones(num_test_corrupted), np.zeros(num_test_clean)])"
   ]
  },
  {
   "cell_type": "code",
   "execution_count": 5,
   "id": "c9677f6e-999f-428c-8112-42c44bfa3229",
   "metadata": {},
   "outputs": [],
   "source": [
    "#Second step, we perform normalization and denoising before extracting features - do to both the train and test data \n",
    "\n",
    "def denoise_image(image):\n",
    "    \"\"\"Apply median filter and gaussian filter.\"\"\"\n",
    "    image = image.astype(np.float32) / 255.0  # Normalize to [0,1]\n",
    "\n",
    "    # Remove salt-and-pepper noise\n",
    "    image = median_filter(image, size=3)\n",
    "\n",
    "    # Remove Gaussian noise\n",
    "    image = gaussian_filter(image, sigma=1)\n",
    "\n",
    "    #ensure validity \n",
    "    image = np.clip(image, 0, 1)\n",
    "\n",
    "    return image\n",
    "\n",
    "def extract_features(image):\n",
    "    \"\"\"Extract classic features: flattened pixels + histogram + edge count.\"\"\"\n",
    "\n",
    "    features = []\n",
    "\n",
    "    # 1. Flattened raw pixels\n",
    "    flat_pixels = image.flatten()\n",
    "    features.append(flat_pixels)\n",
    "\n",
    "    # 2. Histogram of pixel intensities\n",
    "    # 16 bins between 0 and 1 (since image normalized to [0,1])\n",
    "    hist, _ = np.histogram(image, bins=16, range=(0.0, 1.0))\n",
    "    hist = hist / np.sum(hist)  # Normalize histogram\n",
    "    features.append(hist)\n",
    "\n",
    "    # 3. Edge magnitude (Sobel)\n",
    "    dx = sobel(image, axis=0, mode='constant')\n",
    "    dy = sobel(image, axis=1, mode='constant')\n",
    "    edge_magnitude = np.hypot(dx, dy)\n",
    "\n",
    "    # Edge features\n",
    "    mean_edge_strength = np.mean(edge_magnitude)\n",
    "    total_edge_strength = np.sum(edge_magnitude)\n",
    "    features.append([mean_edge_strength, total_edge_strength])\n",
    "\n",
    "    # Combine all features into a single 1D vector\n",
    "    return np.concatenate(features)\n",
    "\n",
    "def prepare_dataset(images):\n",
    "    processed_images = []\n",
    "\n",
    "    for img in images:\n",
    "        denoised_img = denoise_image(img)\n",
    "        features = extract_features(denoised_img)\n",
    "        processed_images.append(features)\n",
    "\n",
    "    return np.array(processed_images)\n",
    "\n"
   ]
  },
  {
   "cell_type": "code",
   "execution_count": 6,
   "id": "3832ac17-9531-4eae-a5fe-4151034c0626",
   "metadata": {
    "tags": []
   },
   "outputs": [
    {
     "name": "stdout",
     "output_type": "stream",
     "text": [
      "(119995, 802)\n"
     ]
    }
   ],
   "source": [
    "#normalize, denoise, and feature extract the data from test and train \n",
    "train_features = prepare_dataset(train_data)\n",
    "test_featrues = prepare_dataset(test_data)\n",
    "print(train_features.shape)"
   ]
  },
  {
   "cell_type": "code",
   "execution_count": 7,
   "id": "e87278b3-9369-471b-8daf-3b873675f07f",
   "metadata": {},
   "outputs": [],
   "source": [
    "#Third, we scale our data\n",
    "scaler = StandardScaler()\n",
    "X_train = scaler.fit_transform(train_features)\n",
    "X_test = scaler.fit_transform(test_featrues)\n",
    "#too computationally expensive for now \n",
    "# #set the hyperparam grid for the SVM \n",
    "# param_grid = {'C': [0.1, 1, 10, 100, 1000]}\n",
    "\n",
    "# #perform grid_search using cross validation \n",
    "# grid_search = GridSearchCV(SVC(kernel='linear'), param_grid, cv=5, scoring='accuracy', verbose=2)\n",
    "# grid_search.fit(X_train, train_labels)\n",
    "\n",
    "# #now that we have the best C, we save it \n",
    "# best_C = grid_search.best_params_['C']\n",
    "# print(f\"Best C value: {best_C}\")\n"
   ]
  },
  {
   "cell_type": "code",
   "execution_count": null,
   "id": "e26c58ce-eb54-4b00-8dd8-c959705d24ee",
   "metadata": {},
   "outputs": [],
   "source": [
    "    #Train the model with the best C\n",
    "    clf = LinearSVC(C=1.0, max_iter=10000)\n",
    "    clf.fit(X_train, train_labels)\n",
    "\n",
    "    #Evaluate the classifier\n",
    "    y_pred = clf.predict(X_test)\n",
    "    accuracy = accuracy_score(test_labels, y_pred)\n",
    "    print(f\"Test Accuracy with C=1: {accuracy:.4f}\")"
   ]
  },
  {
   "cell_type": "code",
   "execution_count": null,
   "id": "c8880040-5d9b-4bd6-930a-6137eec41839",
   "metadata": {},
   "outputs": [],
   "source": []
  }
 ],
 "metadata": {
  "kernelspec": {
   "display_name": "UFRC Python-3.10",
   "language": "python",
   "name": "python3-3.10-ufrc"
  },
  "language_info": {
   "codemirror_mode": {
    "name": "ipython",
    "version": 3
   },
   "file_extension": ".py",
   "mimetype": "text/x-python",
   "name": "python",
   "nbconvert_exporter": "python",
   "pygments_lexer": "ipython3",
   "version": "3.10.8"
  }
 },
 "nbformat": 4,
 "nbformat_minor": 5
}
