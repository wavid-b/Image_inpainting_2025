{
 "cells": [
  {
   "cell_type": "code",
   "execution_count": 6,
   "id": "a81cafa3-c0e4-4cc3-a0c0-f243b0906763",
   "metadata": {
    "tags": []
   },
   "outputs": [],
   "source": [
    "import numpy as np\n",
    "from sklearn.model_selection import GridSearchCV\n",
    "from scipy.ndimage import median_filter, gaussian_filter, sobel\n",
    "from sklearn.svm import SVC\n",
    "from sklearn.metrics import accuracy_score\n",
    "from sklearn.preprocessing import StandardScaler\n",
    "from sklearn.svm import LinearSVC\n",
    "import matplotlib.pyplot as plt\n",
    "import joblib\n"
   ]
  },
  {
   "cell_type": "code",
   "execution_count": 7,
   "id": "0e9b6380-30f9-44ff-a2d4-8c2a1547b10f",
   "metadata": {},
   "outputs": [
    {
     "name": "stdout",
     "output_type": "stream",
     "text": [
      "(59995, 28, 28)\n",
      "(10010, 28, 28)\n"
     ]
    }
   ],
   "source": [
    "#First step, we make our train/test split (60k each class for training, testing will be last 10k of each level + mnist) \n",
    "#we have 13 levels of obfuscation, so 4615 from each is 59995 for our label \"corrupted\"\n",
    "#we take all of the uncorrupted images from mnist for our labeled \"uncorrupted\" (first 60k) \n",
    "corrupted_imgs = np.empty((0, 28, 28))\n",
    "test_corrupted = np.empty((0, 28, 28))\n",
    "for i in range(0, 56000, 4615): \n",
    "    #take from i to i+4614 for the training set and set its label to 1 (for corrupted = true) \n",
    "    file_num = int((i/4615)*5 + 10) # get the number of the thing we should be on \n",
    "    current_np = np.load(\"mnist_obfuscated/mnist_\" + str(file_num) + \".npy\")\n",
    "    corrupted_imgs = np.concatenate((corrupted_imgs, current_np[i:i+4615]), axis = 0)\n",
    "    test_corrupted = np.concatenate((test_corrupted, current_np[69230:]), axis = 0)\n",
    "print(corrupted_imgs.shape)\n",
    "print(test_corrupted.shape)\n",
    "np.save(\"mnist_obfuscated/training\", corrupted_imgs)\n",
    "\n"
   ]
  },
  {
   "cell_type": "code",
   "execution_count": 8,
   "id": "6ccc9d60-b620-4dac-a68d-2b6c99224b8f",
   "metadata": {
    "tags": []
   },
   "outputs": [],
   "source": [
    "clean_imgs = np.load('mnist_files/mnist_img.npy') \n",
    "test_clean = clean_imgs[60000:]\n",
    "clean_imgs = clean_imgs[:60000]\n"
   ]
  },
  {
   "cell_type": "code",
   "execution_count": 9,
   "id": "b34e0d86-33b6-487f-818f-b1c5b7477a2a",
   "metadata": {
    "tags": []
   },
   "outputs": [],
   "source": [
    "#now, we combine them and add labels \n",
    "train_corrupted = 59995\n",
    "train_clean = 60000\n",
    "num_test_corrupted = 10010\n",
    "num_test_clean = 10000\n",
    "\n",
    "train_data = np.concatenate((corrupted_imgs, clean_imgs), axis = 0)\n",
    "train_labels = np.concatenate([np.ones(train_corrupted), np.zeros(train_clean)])\n",
    "test_data = np.concatenate((test_corrupted, test_clean), axis = 0)\n",
    "test_labels = np.concatenate([np.ones(num_test_corrupted), np.zeros(num_test_clean)])"
   ]
  },
  {
   "cell_type": "code",
   "execution_count": 10,
   "id": "c9677f6e-999f-428c-8112-42c44bfa3229",
   "metadata": {},
   "outputs": [],
   "source": [
    "#Second step, we perform normalization and denoising before extracting features - do to both the train and test data \n",
    "\n",
    "def denoise_image(image):\n",
    "    \"\"\"Apply median filter and gaussian filter.\"\"\"\n",
    "    image = image.astype(np.float32) / 255.0  # Normalize to [0,1]\n",
    "\n",
    "    # Remove salt-and-pepper noise\n",
    "    image = median_filter(image, size=3)\n",
    "\n",
    "    # Remove Gaussian noise\n",
    "    image = gaussian_filter(image, sigma=1)\n",
    "\n",
    "    #ensure validity \n",
    "    image = np.clip(image, 0, 1)\n",
    "\n",
    "    return image\n",
    "\n",
    "def extract_features(image):\n",
    "    \"\"\"Extract classic features: flattened pixels + histogram + edge count.\"\"\"\n",
    "\n",
    "    features = []\n",
    "\n",
    "    # 1. Flattened raw pixels\n",
    "    flat_pixels = image.flatten()\n",
    "    features.append(flat_pixels)\n",
    "\n",
    "    # 2. Histogram of pixel intensities\n",
    "    # 16 bins between 0 and 1 (since image normalized to [0,1])\n",
    "    hist, _ = np.histogram(image, bins=16, range=(0.0, 1.0))\n",
    "    hist = hist / np.sum(hist)  # Normalize histogram\n",
    "    features.append(hist)\n",
    "\n",
    "    # 3. Edge magnitude (Sobel)\n",
    "    dx = sobel(image, axis=0, mode='constant')\n",
    "    dy = sobel(image, axis=1, mode='constant')\n",
    "    edge_magnitude = np.hypot(dx, dy)\n",
    "\n",
    "    # Edge features\n",
    "    mean_edge_strength = np.mean(edge_magnitude)\n",
    "    total_edge_strength = np.sum(edge_magnitude)\n",
    "    features.append([mean_edge_strength, total_edge_strength])\n",
    "\n",
    "    # Combine all features into a single 1D vector\n",
    "    return np.concatenate(features)\n",
    "\n",
    "def prepare_dataset(images):\n",
    "    processed_images = []\n",
    "\n",
    "    for img in images:\n",
    "        denoised_img = denoise_image(img)\n",
    "        features = extract_features(denoised_img)\n",
    "        processed_images.append(features)\n",
    "\n",
    "    return np.array(processed_images)\n",
    "\n"
   ]
  },
  {
   "cell_type": "code",
   "execution_count": 11,
   "id": "3832ac17-9531-4eae-a5fe-4151034c0626",
   "metadata": {
    "tags": []
   },
   "outputs": [
    {
     "name": "stdout",
     "output_type": "stream",
     "text": [
      "(119995, 802)\n"
     ]
    }
   ],
   "source": [
    "#normalize, denoise, and feature extract the data from test and train \n",
    "train_features = prepare_dataset(train_data)\n",
    "test_featrues = prepare_dataset(test_data)\n",
    "print(train_features.shape)"
   ]
  },
  {
   "cell_type": "code",
   "execution_count": 12,
   "id": "e87278b3-9369-471b-8daf-3b873675f07f",
   "metadata": {},
   "outputs": [],
   "source": [
    "#Third, we scale our data\n",
    "scaler = StandardScaler()\n",
    "X_train = scaler.fit_transform(train_features)\n",
    "X_test = scaler.fit_transform(test_featrues)\n",
    "#too computationally expensive for now \n",
    "# #set the hyperparam grid for the SVM \n",
    "# param_grid = {'C': [0.1, 1, 10, 100, 1000]}\n",
    "\n",
    "# #perform grid_search using cross validation \n",
    "# grid_search = GridSearchCV(SVC(kernel='linear'), param_grid, cv=5, scoring='accuracy', verbose=2)\n",
    "# grid_search.fit(X_train, train_labels)\n",
    "\n",
    "# #now that we have the best C, we save it \n",
    "# best_C = grid_search.best_params_['C']\n",
    "# print(f\"Best C value: {best_C}\")\n"
   ]
  },
  {
   "cell_type": "code",
   "execution_count": 8,
   "id": "e26c58ce-eb54-4b00-8dd8-c959705d24ee",
   "metadata": {},
   "outputs": [
    {
     "name": "stdout",
     "output_type": "stream",
     "text": [
      "Test Accuracy with C=1: 0.9156\n"
     ]
    }
   ],
   "source": [
    "    #Train the model with the best C\n",
    "    clf = LinearSVC(C=1.0, max_iter=10000)\n",
    "    clf.fit(X_train, train_labels)\n",
    "\n",
    "    #Evaluate the classifier\n",
    "    y_pred = clf.predict(X_test)\n",
    "    accuracy = accuracy_score(test_labels, y_pred)\n",
    "    print(f\"Test Accuracy with C=1: {accuracy:.4f}\")"
   ]
  },
  {
   "cell_type": "code",
   "execution_count": 9,
   "id": "c8880040-5d9b-4bd6-930a-6137eec41839",
   "metadata": {},
   "outputs": [
    {
     "data": {
      "text/plain": [
       "['svm_model2.pkl']"
      ]
     },
     "execution_count": 9,
     "metadata": {},
     "output_type": "execute_result"
    }
   ],
   "source": [
    "joblib.dump(clf, \"svm_model2.pkl\")"
   ]
  },
  {
   "cell_type": "code",
   "execution_count": 14,
   "id": "f6812186-5515-48da-807b-d49efc26eb00",
   "metadata": {
    "tags": []
   },
   "outputs": [],
   "source": [
    "#model1 is with noise, model2 is without noise in training\n",
    "clf = joblib.load('svm_model2.pkl')\n"
   ]
  },
  {
   "cell_type": "code",
   "execution_count": 15,
   "id": "3511d94e-831c-425d-9d1b-3065cd54feca",
   "metadata": {
    "tags": []
   },
   "outputs": [
    {
     "name": "stdout",
     "output_type": "stream",
     "text": [
      "Test Accuracy with C=1: 0.9156\n",
      "Test Accuracy with obf_level 10: 0.3143\n",
      "Test Accuracy with obf_level 15: 0.5117\n",
      "Test Accuracy with obf_level 20: 0.7013\n",
      "Test Accuracy with obf_level 25: 0.8156\n",
      "Test Accuracy with obf_level 30: 0.9195\n",
      "Test Accuracy with obf_level 35: 0.9766\n",
      "Test Accuracy with obf_level 40: 0.9948\n",
      "Test Accuracy with obf_level 45: 0.9987\n",
      "Test Accuracy with obf_level 50: 1.0000\n",
      "Test Accuracy with obf_level 55: 1.0000\n",
      "Test Accuracy with obf_level 60: 1.0000\n",
      "Test Accuracy with obf_level 65: 1.0000\n",
      "Test Accuracy with obf_level 70: 1.0000\n"
     ]
    }
   ],
   "source": [
    "#lets find at what levels it is the most accurate\n",
    "#general again\n",
    "y_pred = clf.predict(X_test)\n",
    "accuracy = accuracy_score(test_labels, y_pred)\n",
    "print(f\"Test Accuracy with C=1: {accuracy:.4f}\")\n",
    "\n",
    "different_level_accuracy = {}\n",
    "for i in range (0, 13):\n",
    "    obf_level = i*5 + 10 \n",
    "    low = i*770\n",
    "    high = low+770\n",
    "    test_this = X_test[low:high]\n",
    "    level_labels = test_labels[low:high]\n",
    "    y_pred = clf.predict(test_this)\n",
    "    accuracy = accuracy_score(y_pred, level_labels)\n",
    "    print(f\"Test Accuracy with obf_level {obf_level}: {accuracy:.4f}\")\n",
    "    different_level_accuracy[obf_level] = accuracy "
   ]
  },
  {
   "cell_type": "code",
   "execution_count": 29,
   "id": "783e31f8-3934-4f48-a361-62b760318375",
   "metadata": {
    "tags": []
   },
   "outputs": [
    {
     "data": {
      "image/png": "[encoded data removed]",
      "text/plain": [
       "<Figure size 576x360 with 1 Axes>"
      ]
     },
     "metadata": {
      "needs_background": "light"
     },
     "output_type": "display_data"
    }
   ],
   "source": [
    "#lets make that into a chart now \n",
    "keys = list(different_level_accuracy.keys())\n",
    "values = list(different_level_accuracy.values())\n",
    "\n",
    "plt.figure(figsize=(8, 5))\n",
    "plt.bar(keys, values, color='skyblue', edgecolor='black')\n",
    "plt.title(\"Accuracy vs Overlap with Mask\")\n",
    "plt.xlabel(\"Level of Occlusion\")\n",
    "plt.ylabel(\"Accuracy of Classifier in Test\")\n",
    "plt.xticks(rotation=45, ha='right')\n",
    "plt.tight_layout()\n",
    "plt.savefig(\"mnist_obfuscated/accuracy_level.png\", dpi=300)\n",
    "plt.show()\n"
   ]
  },
  {
   "cell_type": "code",
   "execution_count": 17,
   "id": "be529e74-b701-41ca-b006-6b9f4dbe6ee9",
   "metadata": {
    "tags": []
   },
   "outputs": [
    {
     "name": "stdout",
     "output_type": "stream",
     "text": [
      "(301, 802)\n",
      "(272, 802)\n",
      "(293, 802)\n",
      "(273, 802)\n",
      "(308, 802)\n",
      "(287, 802)\n",
      "(279, 802)\n",
      "(274, 802)\n",
      "(311, 802)\n",
      "(276, 802)\n",
      "(294, 802)\n",
      "(297, 802)\n",
      "(288, 802)\n",
      "(3753, 802)\n"
     ]
    }
   ],
   "source": [
    "#next, we need a chart for the type of occlusion vs accuracy: get the type of occlusion from the mask folder\n",
    "#figure out which tests have their index as each thing in that occlusion type table \n",
    "circle_obs = np.empty((0, 802))\n",
    "polygon_obs = np.empty((0, 802))\n",
    "region_obs = np.empty((0, 802))\n",
    "\n",
    "for i in range (0, 13):\n",
    "    level_of_obfuscation = i*5 + 10 \n",
    "    low = i*770\n",
    "    high = low+770\n",
    "    test_this = X_test[low:high]\n",
    "    level_labels = test_labels[low:high]\n",
    "    type_array = np.load(\"mask/obfuscation_type_\" + str(level_of_obfuscation) + \".npy\")\n",
    "    circle_bitmask = type_array[69230:] == \"c\"\n",
    "    polygon_bitmask = type_array[69230:] == \"p\"\n",
    "    region_bitmask = type_array[69230:] == \"r\"\n",
    "    filtered = test_corrupted[i*770:i*770+770]\n",
    "    circle_filtered = test_this[circle_bitmask]\n",
    "    polygon_filtered = test_this[polygon_bitmask]\n",
    "    region_filtered = test_this[region_bitmask]\n",
    "    print(circle_filtered.shape)\n",
    "    #now append the filtered to their corresponding arrays\n",
    "    circle_obs = np.concatenate((circle_obs, circle_filtered), axis = 0)\n",
    "    polygon_obs = np.concatenate((polygon_obs, polygon_filtered), axis = 0)\n",
    "    region_obs = np.concatenate((region_obs, region_filtered), axis = 0)\n",
    "#need to redo the processing from image to features on these to run them \n",
    "print(circle_obs.shape)\n",
    "\n",
    "    \n",
    "    "
   ]
  },
  {
   "cell_type": "code",
   "execution_count": 18,
   "id": "ecce9c59-7e1b-4d07-bfa2-a762cc825ae1",
   "metadata": {},
   "outputs": [],
   "source": [
    "X_circle = circle_obs\n",
    "X_polygon = polygon_obs\n",
    "X_region = region_obs\n",
    "\n",
    "#need labels equal to their size \n",
    "\n",
    "y_circle = np.ones(X_circle.shape[0])\n",
    "y_polygon = np.ones(X_polygon.shape[0])\n",
    "y_region = np.ones(X_region.shape[0])"
   ]
  },
  {
   "cell_type": "code",
   "execution_count": 19,
   "id": "3a25fa89-4549-4490-a0fd-113eae262f2e",
   "metadata": {
    "tags": []
   },
   "outputs": [
    {
     "name": "stdout",
     "output_type": "stream",
     "text": [
      "Accuracy is 0.9144684252597922\n",
      "Accuracy is 0.8843042071197411\n",
      "Accuracy is 0.8007926023778071\n"
     ]
    }
   ],
   "source": [
    "#now we fit to test them! \n",
    "y_pred = clf.predict(X_circle)\n",
    "c_accuracy = accuracy_score(y_pred, y_circle)\n",
    "print(f\"Accuracy is {c_accuracy}\")\n",
    "\n",
    "y_pred = clf.predict(X_polygon)\n",
    "p_accuracy = accuracy_score(y_pred, y_polygon)\n",
    "print(f\"Accuracy is {p_accuracy}\")\n",
    "\n",
    "y_pred = clf.predict(X_region)\n",
    "r_accuracy = accuracy_score(y_pred, y_region)\n",
    "print(f\"Accuracy is {r_accuracy}\")"
   ]
  },
  {
   "cell_type": "code",
   "execution_count": 20,
   "id": "d64d135f-3fc2-41ee-8858-7ce6538efc1f",
   "metadata": {
    "tags": []
   },
   "outputs": [
    {
     "data": {
      "image/png": "[encoded data removed]",
      "text/plain": [
       "<Figure size 576x360 with 1 Axes>"
      ]
     },
     "metadata": {
      "needs_background": "light"
     },
     "output_type": "display_data"
    }
   ],
   "source": [
    "accuracy_dict = {\"circle\": c_accuracy, \"polygon\": p_accuracy, \"spline\": r_accuracy}\n",
    "#lets make that into a chart now \n",
    "keys = list(accuracy_dict.keys())\n",
    "values = list(accuracy_dict.values())\n",
    "plt.figure(figsize=(8, 5))\n",
    "plt.bar(keys, values, color='skyblue', edgecolor='black')\n",
    "plt.title(\"Difference in Occlusion Type\")\n",
    "plt.xlabel(\"Type of Occlusion\")\n",
    "plt.ylabel(\"Accuracy of Classifier in Test\")\n",
    "plt.xticks(rotation=45, ha='right')\n",
    "plt.tight_layout()\n",
    "plt.savefig(\"mnist_obfuscated/type_of_obfuscation.png\", dpi=300)\n",
    "plt.show()"
   ]
  },
  {
   "cell_type": "code",
   "execution_count": null,
   "id": "f234197f-33c9-4224-96e5-609fbe4fa540",
   "metadata": {},
   "outputs": [],
   "source": []
  }
 ],
 "metadata": {
  "kernelspec": {
   "display_name": "UFRC Python-3.10",
   "language": "python",
   "name": "python3-3.10-ufrc"
  },
  "language_info": {
   "codemirror_mode": {
    "name": "ipython",
    "version": 3
   },
   "file_extension": ".py",
   "mimetype": "text/x-python",
   "name": "python",
   "nbconvert_exporter": "python",
   "pygments_lexer": "ipython3",
   "version": "3.10.8"
  }
 },
 "nbformat": 4,
 "nbformat_minor": 5
}
