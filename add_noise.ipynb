{
 "cells": [
  {
   "cell_type": "code",
   "execution_count": 1,
   "id": "26ea0db0-a9c0-47c7-8ec0-4d1af536ecc1",
   "metadata": {},
   "outputs": [],
   "source": [
    "import numpy as np\n",
    "import matplotlib.pyplot as plt\n",
    "\n",
    "#Salt and pepper noise\n",
    "def add_salt_and_pepper_noise_batch(images, salt_prob=0.01, pepper_prob=0.01):\n",
    "    noisy_images = images.copy()\n",
    "    \n",
    "    # Salt noise (white pixels)\n",
    "    salt_mask = np.random.rand(*images.shape) < salt_prob\n",
    "    noisy_images[salt_mask] = 255\n",
    "    \n",
    "    # Pepper noise (black pixels)\n",
    "    pepper_mask = np.random.rand(*images.shape) < pepper_prob\n",
    "    noisy_images[pepper_mask] = 0\n",
    "    \n",
    "    return noisy_images"
   ]
  },
  {
   "cell_type": "code",
   "execution_count": 2,
   "id": "8bceb6bc-0d99-4991-8459-9239eab0f401",
   "metadata": {},
   "outputs": [],
   "source": [
    "\n",
    "# Add Gaussian noise to a batch of images\n",
    "def add_gaussian_noise_batch(images, mean=0, std=15):\n",
    "    noise = np.random.normal(mean, std, images.shape)\n",
    "    noisy_images = images + noise\n",
    "    return np.clip(noisy_images, 0, 255).astype(np.uint8)\n",
    "\n"
   ]
  },
  {
   "cell_type": "code",
   "execution_count": 3,
   "id": "64d9e0f9-96af-4bbc-af74-ce658e48f22c",
   "metadata": {},
   "outputs": [],
   "source": [
    "# Add Poisson noise to a batch of images\n",
    "def add_poisson_noise_batch(images):\n",
    "    # Poisson noise expects images to have integer values\n",
    "    # So first convert images to int if they are in float format\n",
    "    images_int = images.astype(np.int32)\n",
    "    noisy_images = np.random.poisson(images_int)\n",
    "    return np.clip(noisy_images, 0, 255).astype(np.uint8)\n"
   ]
  },
  {
   "cell_type": "code",
   "execution_count": 4,
   "id": "5bf66d01-e044-46f3-b2c5-0436be62d790",
   "metadata": {},
   "outputs": [
    {
     "name": "stdout",
     "output_type": "stream",
     "text": [
      "(70000, 28, 28)\n"
     ]
    }
   ],
   "source": [
    "#now apply this noise to all of the images from obfuscated and the regular mnist images\n",
    "\n",
    "#first, the regular mnist images\n",
    "mnist = np.load('./mnist_files/mnist_img.npy')\n",
    "mnist = add_salt_and_pepper_noise_batch(mnist)\n",
    "mnist = add_gaussian_noise_batch(mnist)\n",
    "mnist = add_poisson_noise_batch(mnist)\n",
    "\n",
    "print(mnist.shape)\n",
    "np.save('mnist_noisy/mnist', mnist)\n"
   ]
  },
  {
   "cell_type": "code",
   "execution_count": 5,
   "id": "87940d0b-4027-4f41-997e-2de9f37b3551",
   "metadata": {
    "tags": []
   },
   "outputs": [
    {
     "data": {
      "image/png": "[encoded data removed]",
      "text/plain": [
       "<Figure size 640x480 with 1 Axes>"
      ]
     },
     "metadata": {},
     "output_type": "display_data"
    }
   ],
   "source": [
    "plt.imshow(mnist[0], cmap='gray')  # Use 'gray' for grayscale images\n",
    "plt.title('First Processed Image')\n",
    "plt.axis('off')  # Turn off the axis\n",
    "plt.show()"
   ]
  },
  {
   "cell_type": "code",
   "execution_count": 6,
   "id": "8967652e-e45f-4277-93dd-4e29bdd54463",
   "metadata": {
    "tags": []
   },
   "outputs": [
    {
     "name": "stdout",
     "output_type": "stream",
     "text": [
      "(70000, 28, 28)\n",
      "(70000, 28, 28)\n",
      "(70000, 28, 28)\n",
      "(70000, 28, 28)\n",
      "(70000, 28, 28)\n",
      "(70000, 28, 28)\n",
      "(70000, 28, 28)\n",
      "(70000, 28, 28)\n",
      "(70000, 28, 28)\n",
      "(70000, 28, 28)\n",
      "(70000, 28, 28)\n",
      "(70000, 28, 28)\n",
      "(70000, 28, 28)\n"
     ]
    }
   ],
   "source": [
    "#now we apply to each of the obfuscated images \n",
    "for i in range(10, 71, 5): \n",
    "    imgs = np.load(\"./mnist_obfuscated/mnist_\" + str(i) + \".npy\")\n",
    "    imgs = add_salt_and_pepper_noise_batch(imgs)\n",
    "    imgs = add_gaussian_noise_batch(imgs)\n",
    "    imgs = add_poisson_noise_batch(imgs)\n",
    "    print(imgs.shape) \n",
    "    np.save('mnist_noisy/mnist_' + str(i) + '.npy', imgs)\n",
    "    \n"
   ]
  },
  {
   "cell_type": "code",
   "execution_count": 7,
   "id": "2c3360df-833b-45e3-8425-52457f18efb9",
   "metadata": {},
   "outputs": [
    {
     "data": {
      "image/png": "[encoded data removed]",
      "text/plain": [
       "<Figure size 640x480 with 1 Axes>"
      ]
     },
     "metadata": {},
     "output_type": "display_data"
    }
   ],
   "source": [
    "current_obj = np.load('mnist_noisy/mnist_50.npy')\n",
    "plt.imshow(current_obj[0], cmap='gray')  # Use 'gray' for grayscale images\n",
    "plt.title('First Processed Image')\n",
    "plt.axis('off')  # Turn off the axis\n",
    "plt.show()"
   ]
  },
  {
   "cell_type": "code",
   "execution_count": null,
   "id": "aad0951d-129b-420b-a0dd-34d92dc7364e",
   "metadata": {},
   "outputs": [],
   "source": []
  }
 ],
 "metadata": {
  "kernelspec": {
   "display_name": "Python 3 (ipykernel)",
   "language": "python",
   "name": "python3"
  },
  "language_info": {
   "codemirror_mode": {
    "name": "ipython",
    "version": 3
   },
   "file_extension": ".py",
   "mimetype": "text/x-python",
   "name": "python",
   "nbconvert_exporter": "python",
   "pygments_lexer": "ipython3",
   "version": "3.10.12"
  }
 },
 "nbformat": 4,
 "nbformat_minor": 5
}
