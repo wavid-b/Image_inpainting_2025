{
 "cells": [
  {
   "cell_type": "code",
   "execution_count": 1,
   "id": "de8e548c-76db-4d61-9f52-7497ab302d81",
   "metadata": {
    "tags": []
   },
   "outputs": [],
   "source": [
    "import matplotlib.pyplot as plt"
   ]
  },
  {
   "cell_type": "code",
   "execution_count": 2,
   "id": "b50db23d-e2cd-4326-a7d3-dac2de7511a3",
   "metadata": {
    "tags": []
   },
   "outputs": [],
   "source": [
    "import os\n",
    "import numpy as np\n",
    "\n",
    "# Function to process each txt file\n",
    "def process_txt_files(folder_path):\n",
    "    # Create an empty list to hold the arrays\n",
    "    result_array = []\n",
    "    sorted_files = sorted(os.listdir(folder_path))\n",
    "    # Iterate through all files in the folder\n",
    "    for filename in sorted_files:\n",
    "        if filename.endswith('.txt'):\n",
    "            file_path = os.path.join(folder_path, filename)\n",
    "            try:\n",
    "                with open(file_path, 'r') as file:\n",
    "                    first_line = file.readline().strip()\n",
    "\n",
    "                    # If the file has a first line, extract dimensions from it\n",
    "                    if first_line:\n",
    "                        values = list(map(float, first_line.split()))\n",
    "                        # Check if the first line has exactly 5 elements\n",
    "                        if len(values) == 5:\n",
    "                            result_array.append(values[1:])  # Append everything except the first element\n",
    "                        else:\n",
    "                            result_array.append([0, 0, 0, 0])  # Default in case of unexpected format\n",
    "                            print(\"Unexpected format detected\")\n",
    "                    else:\n",
    "                        # If there is no first line, append 0 0 0 0\n",
    "                        result_array.append([0, 0, 0, 0])\n",
    "            except Exception as e:\n",
    "                print(f\"Error processing file {filename}: {e}\")\n",
    "    \n",
    "    # Convert the list to a numpy array\n",
    "    result_array = np.array(result_array)\n",
    "    return result_array"
   ]
  },
  {
   "cell_type": "code",
   "execution_count": 3,
   "id": "668f77d2-f2d7-4749-a7b4-ffc25a857f4a",
   "metadata": {
    "tags": []
   },
   "outputs": [],
   "source": [
    "boxes_estimated = process_txt_files(\"yolov5/runs/detect/exp2/labels\")\n",
    "np.save(\"yolo_boxes/boxes_estimated3\", boxes_estimated) #number goes up for each time it is estimated"
   ]
  },
  {
   "cell_type": "code",
   "execution_count": null,
   "id": "b30ccb9a-6fe7-41a7-bbbe-21135c83b141",
   "metadata": {
    "tags": []
   },
   "outputs": [],
   "source": [
    "true_boxes = process_txt_files(\"yolo_data/label3/test\")\n",
    "np.save(\"yolo_boxes/boxes_true3\", true_boxes)"
   ]
  },
  {
   "cell_type": "code",
   "execution_count": 16,
   "id": "d81c92e0-3b37-47af-9131-746f186e358b",
   "metadata": {
    "tags": []
   },
   "outputs": [
    {
     "name": "stdout",
     "output_type": "stream",
     "text": [
      "(59995, 4)\n"
     ]
    }
   ],
   "source": [
    "#use if you already have the true boxes saved\n",
    "true_boxes = np.load(\"yolo_boxes/boxes_true.npy\")\n",
    "print(true_boxes.shape)\n"
   ]
  },
  {
   "cell_type": "code",
   "execution_count": 17,
   "id": "651851ea-8fb9-401d-9f7e-78fd6cea8356",
   "metadata": {
    "tags": []
   },
   "outputs": [
    {
     "name": "stdout",
     "output_type": "stream",
     "text": [
      "(59863, 4)\n"
     ]
    }
   ],
   "source": [
    "#use if you have the guesses saved\n",
    "boxes_estimated = np.load(\"yolo_boxes/boxes_estimated.npy\")\n",
    "print(boxes_estimated.shape)\n"
   ]
  },
  {
   "cell_type": "code",
   "execution_count": 19,
   "id": "8bac15a9-cb28-45aa-bb0e-73e6acd3da3c",
   "metadata": {
    "tags": []
   },
   "outputs": [
    {
     "name": "stdout",
     "output_type": "stream",
     "text": [
      "(59863, 4)\n",
      "(59863, 4)\n",
      "(59863, 4)\n",
      "[0.321429 0.535714 0.5      0.428571]\n",
      "[0.35714287 0.5714286  0.35714287 0.35714287]\n",
      "(59863, 4)\n"
     ]
    }
   ],
   "source": [
    "print(true_boxes.shape) # should be N x 4\n",
    "print(boxes_estimated.shape)\n",
    "#append boxes estimated with empties for each empty box, remove that from the IOU calc\n",
    "import os\n",
    "\n",
    "\n",
    "print(boxes_estimated.shape)\n",
    "print(boxes_estimated[0])\n",
    "print(true_boxes[0])\n",
    "print(true_boxes.shape)"
   ]
  },
  {
   "cell_type": "code",
   "execution_count": 20,
   "id": "3dce9e94-22e3-4958-b541-af3e2d9f62d6",
   "metadata": {
    "tags": []
   },
   "outputs": [],
   "source": [
    "#Ok, now we calculate IOU using the YOLO files \n",
    "\n",
    "def calculate_avg_iou(labels1, labels2):\n",
    "    \"\"\"\n",
    "    Calculate the average Intersection over Union (IoU) for two sets of YOLO bounding boxes.\n",
    "    \n",
    "    Each label is in the format: [x_center, y_center, width, height]\n",
    "    \n",
    "    :param labels1: N x 4 numpy array of YOLO labels for the first set\n",
    "    :param labels2: N x 4 numpy array of YOLO labels for the second set\n",
    "    :return: Average IoU value\n",
    "    \"\"\"\n",
    "    # Initialize list to store individual IoU values\n",
    "    iou_values = []\n",
    "    \n",
    "    # Loop through each pair of boxes from both sets\n",
    "    for i in range(len(labels1)):\n",
    "        # Extract bounding box details for both labels\n",
    "        x_center1, y_center1, w1, h1 = labels1[i]\n",
    "        x_center2, y_center2, w2, h2 = labels2[i]\n",
    "        \n",
    "        # Convert YOLO format to corner coordinates (min and max)\n",
    "        x1_min = x_center1 - w1 / 2\n",
    "        y1_min = y_center1 - h1 / 2\n",
    "        x1_max = x_center1 + w1 / 2\n",
    "        y1_max = y_center1 + h1 / 2\n",
    "        \n",
    "        x2_min = x_center2 - w2 / 2\n",
    "        y2_min = y_center2 - h2 / 2\n",
    "        x2_max = x_center2 + w2 / 2\n",
    "        y2_max = y_center2 + h2 / 2\n",
    "        \n",
    "        # Calculate the intersection area\n",
    "        x_overlap = max(0, min(x1_max, x2_max) - max(x1_min, x2_min))\n",
    "        y_overlap = max(0, min(y1_max, y2_max) - max(y1_min, y2_min))\n",
    "        intersection_area = x_overlap * y_overlap\n",
    "        \n",
    "        # Calculate the union area\n",
    "        area1 = w1 * h1\n",
    "        area2 = w2 * h2\n",
    "        union_area = area1 + area2 - intersection_area\n",
    "        \n",
    "        # Calculate IoU and store it\n",
    "        iou = intersection_area / union_area if union_area > 0 else 1\n",
    "        if union_area:\n",
    "            iou_values.append(iou)\n",
    "    # Calculate the average IoU\n",
    "    avg_iou = np.mean(iou_values)\n",
    "    return avg_iou"
   ]
  },
  {
   "cell_type": "code",
   "execution_count": 21,
   "id": "a0b07675-7d06-4f14-8964-6ba460308db6",
   "metadata": {
    "tags": []
   },
   "outputs": [
    {
     "name": "stdout",
     "output_type": "stream",
     "text": [
      "0.6265541196450596\n"
     ]
    }
   ],
   "source": [
    "iou = calculate_avg_iou(boxes_estimated, true_boxes) \n",
    "print(iou)"
   ]
  },
  {
   "cell_type": "code",
   "execution_count": 22,
   "id": "27e505cb-4caf-408b-8d59-744fbc7f219b",
   "metadata": {
    "tags": []
   },
   "outputs": [],
   "source": [
    "#now we do it for every 13th of the labeled boxes \n",
    "\n",
    "def calculate_avg_ious(labels1, labels2):\n",
    "    \"\"\"\n",
    "    Calculate the average Intersection over Union (IoU) for two sets of YOLO bounding boxes.\n",
    "    \n",
    "    Each label is in the format: [x_center, y_center, width, height]\n",
    "    \n",
    "    :param labels1: N x 4 numpy array of YOLO labels for the first set\n",
    "    :param labels2: N x 4 numpy array of YOLO labels for the second set\n",
    "    :return: Average IoU value\n",
    "    \"\"\"\n",
    "    one_thirteenth = int(labels1.shape[0]/13)\n",
    "    # Initialize list to store individual IoU values\n",
    "    split_iou_values = []\n",
    "    iou_values = []\n",
    "    avg_ious = []\n",
    "    # Loop through each pair of boxes from both sets\n",
    "    for i in range(len(labels1)):\n",
    "        # Extract bounding box details for both labels\n",
    "        x_center1, y_center1, w1, h1 = labels1[i]\n",
    "        x_center2, y_center2, w2, h2 = labels2[i]\n",
    "        \n",
    "        # Convert YOLO format to corner coordinates (min and max)\n",
    "        x1_min = x_center1 - w1 / 2\n",
    "        y1_min = y_center1 - h1 / 2\n",
    "        x1_max = x_center1 + w1 / 2\n",
    "        y1_max = y_center1 + h1 / 2\n",
    "        \n",
    "        x2_min = x_center2 - w2 / 2\n",
    "        y2_min = y_center2 - h2 / 2\n",
    "        x2_max = x_center2 + w2 / 2\n",
    "        y2_max = y_center2 + h2 / 2\n",
    "        \n",
    "        # Calculate the intersection area\n",
    "        x_overlap = max(0, min(x1_max, x2_max) - max(x1_min, x2_min))\n",
    "        y_overlap = max(0, min(y1_max, y2_max) - max(y1_min, y2_min))\n",
    "        intersection_area = x_overlap * y_overlap\n",
    "        \n",
    "        # Calculate the union area\n",
    "        area1 = w1 * h1\n",
    "        area2 = w2 * h2\n",
    "        union_area = area1 + area2 - intersection_area\n",
    "        \n",
    "        # Calculate IoU and store it\n",
    "        iou = intersection_area / union_area if union_area > 0 else 1\n",
    "        \n",
    "        iou_values.append(iou)\n",
    "        \n",
    "        if len(iou_values)%one_thirteenth == 0: \n",
    "            split_iou_values.append(iou_values) \n",
    "            iou_values = []\n",
    "    # Calculate the average IoU\n",
    "    for iou_val in split_iou_values:\n",
    "        avg_iou = np.mean(iou_val)\n",
    "        avg_ious.append(avg_iou)\n",
    "    return avg_ious\n"
   ]
  },
  {
   "cell_type": "code",
   "execution_count": 23,
   "id": "09252960-a985-4717-993f-9e87ee4087d5",
   "metadata": {
    "tags": []
   },
   "outputs": [
    {
     "name": "stdout",
     "output_type": "stream",
     "text": [
      "[0.37264476311548345, 0.51567890024004, 0.6037901507407881, 0.6784717582913802, 0.6876617504610417, 0.6937282392505295, 0.6960274571269666, 0.6742801317664432, 0.6727777199616497, 0.6485700095306273, 0.6457268734088819, 0.6307912567510785, 0.6251351666633003]\n",
      "13\n"
     ]
    }
   ],
   "source": [
    "ious = calculate_avg_ious(boxes_estimated, true_boxes)[:13]\n",
    "print(ious)\n",
    "print(len(ious))"
   ]
  },
  {
   "cell_type": "code",
   "execution_count": 33,
   "id": "0b665d3c-5f2e-4221-94b4-35632e779fee",
   "metadata": {
    "tags": []
   },
   "outputs": [
    {
     "data": {
      "image/png": "[encoded data removed]",
      "text/plain": [
       "<Figure size 800x500 with 1 Axes>"
      ]
     },
     "metadata": {},
     "output_type": "display_data"
    }
   ],
   "source": [
    "keys = [5*i + 10 for i in range(0, 13)]\n",
    "values = ious\n",
    "plt.figure(figsize=(8, 5))\n",
    "plt.scatter(keys, values, color='skyblue', edgecolor='black')\n",
    "plt.title(\"IOU vs Overlap with Mask\")\n",
    "plt.xlabel(\"Level of Occlusion\")\n",
    "plt.ylabel(\"IOU in Test\")\n",
    "plt.xticks(rotation=45, ha='right')\n",
    "plt.tight_layout()\n",
    "plt.savefig(\"mnist_obfuscated/IOU_level.png\", dpi=300)\n",
    "plt.show()"
   ]
  },
  {
   "cell_type": "code",
   "execution_count": 126,
   "id": "468d76b6-7402-45cc-8413-5f5d95c0e4fe",
   "metadata": {
    "tags": []
   },
   "outputs": [],
   "source": [
    "np.save(\"yolo_boxes/boxes_estimated2\", boxes_estimated)\n",
    "np.save(\"yolo_boxes/boxes_true2\", true_boxes)"
   ]
  },
  {
   "cell_type": "code",
   "execution_count": 25,
   "id": "d177f49b-f170-42c5-9587-043d141cc543",
   "metadata": {
    "tags": []
   },
   "outputs": [],
   "source": [
    "#Need to also calculate the avg amount of the boxes that cover the corrupted region \n",
    "def calculate_avg_coverage(labels1, labels2):\n",
    "    \"\"\"\n",
    "    Calculate the average Intersection over Union (IoU) for two sets of YOLO bounding boxes.\n",
    "    \n",
    "    Each label is in the format: [x_center, y_center, width, height]\n",
    "    \n",
    "    :param labels1: N x 4 numpy array of YOLO labels for the first set\n",
    "    :param labels2: N x 4 numpy array of YOLO labels for the second set\n",
    "    :return: Average IoU value\n",
    "    \"\"\"\n",
    "    # Initialize list to store individual IoU values\n",
    "    coverage_values = []\n",
    "    \n",
    "    # Loop through each pair of boxes from both sets\n",
    "    for i in range(len(labels1)):\n",
    "        # Extract bounding box details for both labels\n",
    "        x_center1, y_center1, w1, h1 = labels1[i]\n",
    "        x_center2, y_center2, w2, h2 = labels2[i]\n",
    "        \n",
    "        # Convert YOLO format to corner coordinates (min and max)\n",
    "        x1_min = x_center1 - w1 / 2\n",
    "        y1_min = y_center1 - h1 / 2\n",
    "        x1_max = x_center1 + w1 / 2\n",
    "        y1_max = y_center1 + h1 / 2\n",
    "        \n",
    "        x2_min = x_center2 - w2 / 2\n",
    "        y2_min = y_center2 - h2 / 2\n",
    "        x2_max = x_center2 + w2 / 2\n",
    "        y2_max = y_center2 + h2 / 2\n",
    "        \n",
    "        # Calculate the intersection area\n",
    "        x_overlap = max(0, min(x1_max, x2_max) - max(x1_min, x2_min))\n",
    "        y_overlap = max(0, min(y1_max, y2_max) - max(y1_min, y2_min))\n",
    "        intersection_area = x_overlap * y_overlap\n",
    "        \n",
    "        # Calculate the size of the area you want to contain \n",
    "        area1 = w1 * h1\n",
    "        \n",
    "        # Calculate IoU and store it\n",
    "        coverage = intersection_area / area1 if area1 > 0 else 1\n",
    "        if area1:\n",
    "            coverage_values.append(coverage)\n",
    "    # Calculate the average IoU\n",
    "    avg_coverage = np.mean(coverage_values)\n",
    "    return avg_coverage"
   ]
  },
  {
   "cell_type": "code",
   "execution_count": 27,
   "id": "e540ea29-3ad3-4d29-9ae5-159aca494574",
   "metadata": {
    "tags": []
   },
   "outputs": [
    {
     "name": "stdout",
     "output_type": "stream",
     "text": [
      "0.7882910734767073\n"
     ]
    }
   ],
   "source": [
    "coverage = calculate_avg_coverage(true_boxes, boxes_estimated) \n",
    "print(coverage)"
   ]
  },
  {
   "cell_type": "code",
   "execution_count": 28,
   "id": "1f31f2a5-203f-4e24-a6a7-874840cefa21",
   "metadata": {
    "tags": []
   },
   "outputs": [],
   "source": [
    "#now do it per level of occlusion \n",
    "def calculate_avg_coverages(labels1, labels2):\n",
    "    \"\"\"\n",
    "    Calculate the average Intersection over Union (IoU) for two sets of YOLO bounding boxes.\n",
    "    \n",
    "    Each label is in the format: [x_center, y_center, width, height]\n",
    "    \n",
    "    :param labels1: N x 4 numpy array of YOLO labels for the first set\n",
    "    :param labels2: N x 4 numpy array of YOLO labels for the second set\n",
    "    :return: Average IoU value\n",
    "    \"\"\"\n",
    "    one_thirteenth = int(labels1.shape[0]/13)\n",
    "    # Initialize list to store individual IoU values\n",
    "    split_coverage_values = []\n",
    "    coverage_values = []\n",
    "    avg_coverages = []\n",
    "    # Loop through each pair of boxes from both sets\n",
    "    for i in range(len(labels1)):\n",
    "        # Extract bounding box details for both labels\n",
    "        x_center1, y_center1, w1, h1 = labels1[i]\n",
    "        x_center2, y_center2, w2, h2 = labels2[i]\n",
    "        \n",
    "        # Convert YOLO format to corner coordinates (min and max)\n",
    "        x1_min = x_center1 - w1 / 2\n",
    "        y1_min = y_center1 - h1 / 2\n",
    "        x1_max = x_center1 + w1 / 2\n",
    "        y1_max = y_center1 + h1 / 2\n",
    "        \n",
    "        x2_min = x_center2 - w2 / 2\n",
    "        y2_min = y_center2 - h2 / 2\n",
    "        x2_max = x_center2 + w2 / 2\n",
    "        y2_max = y_center2 + h2 / 2\n",
    "        \n",
    "        # Calculate the intersection area\n",
    "        x_overlap = max(0, min(x1_max, x2_max) - max(x1_min, x2_min))\n",
    "        y_overlap = max(0, min(y1_max, y2_max) - max(y1_min, y2_min))\n",
    "        intersection_area = x_overlap * y_overlap\n",
    "        \n",
    "        # Calculate the true area\n",
    "        true_area = w1 * h1\n",
    "        \n",
    "        # Calculate IoU and store it\n",
    "        coverage = intersection_area / true_area if true_area > 0 else 1\n",
    "        \n",
    "        coverage_values.append(coverage)\n",
    "        \n",
    "        if len(coverage_values)%one_thirteenth == 0: \n",
    "            split_coverage_values.append(coverage_values) \n",
    "            coverage_values = []\n",
    "    # Calculate the average IoU\n",
    "    for c in split_coverage_values:\n",
    "        avg_coverage = np.mean(c)\n",
    "        avg_coverages.append(avg_coverage)\n",
    "    return avg_coverages"
   ]
  },
  {
   "cell_type": "code",
   "execution_count": 34,
   "id": "754f29c6-7609-4d33-8d08-97c0000ae13c",
   "metadata": {
    "tags": []
   },
   "outputs": [
    {
     "name": "stdout",
     "output_type": "stream",
     "text": [
      "[0.7405223207984682, 0.8209870610243062, 0.8508347746809027, 0.876479805333413, 0.8624101378308329, 0.8512815588396258, 0.832655678320865, 0.7916080964398903, 0.7824545953543607, 0.7370129497908215, 0.7289826937470957, 0.6915012461439644, 0.6813323296151533]\n",
      "13\n"
     ]
    },
    {
     "data": {
      "image/png": "[encoded data removed]",
      "text/plain": [
       "<Figure size 800x500 with 1 Axes>"
      ]
     },
     "metadata": {},
     "output_type": "display_data"
    }
   ],
   "source": [
    "coverages = calculate_avg_coverages(true_boxes, boxes_estimated)[:13]\n",
    "print(coverages)\n",
    "print(len(coverages))\n",
    "keys = [5*i + 10 for i in range(0, 13)]\n",
    "values = coverages\n",
    "plt.figure(figsize=(8, 5))\n",
    "plt.scatter(keys, values, color='skyblue', edgecolor='black')\n",
    "plt.title(\"Coverage vs Overlap with Mask\")\n",
    "plt.xlabel(\"Level of Occlusion\")\n",
    "plt.ylabel(\"Coverage in Test\")\n",
    "plt.xticks(rotation=45, ha='right')\n",
    "plt.tight_layout()\n",
    "plt.savefig(\"mnist_obfuscated/Coverage_level.png\", dpi=300)\n",
    "plt.show()"
   ]
  },
  {
   "cell_type": "code",
   "execution_count": 18,
   "id": "7aaf1835-7226-4651-8f0c-185c9c18e7f3",
   "metadata": {
    "tags": []
   },
   "outputs": [],
   "source": [
    "##USE THIS WHEN THE NUMBER OF BOXES DOESN'T LINE UP \n",
    "# # Path to your folder\n",
    "folder_path = 'yolov5/runs/detect/exp9/labels'\n",
    "\n",
    "# List all the .txt files\n",
    "files = os.listdir(folder_path)\n",
    "\n",
    "# Extract numbers from filenames\n",
    "existing_numbers = set()\n",
    "for filename in files:\n",
    "    if filename.endswith('.txt'):\n",
    "        try:\n",
    "            num = int(filename[len('image_'):-4])  # skip \"image_\" and \".txt\"\n",
    "            existing_numbers.add(num)\n",
    "        except ValueError:\n",
    "            pass  # ignore files that don't match the pattern\n",
    "\n",
    "# Now find missing numbers\n",
    "all_numbers = set(range(59995))  # 0 to 59994 inclusive\n",
    "missing_numbers = sorted(all_numbers - existing_numbers)\n",
    "#remove the missing numbers from the true_boxes \n",
    "true_boxes = np.delete(true_boxes, missing_numbers, axis = 0)"
   ]
  },
  {
   "cell_type": "code",
   "execution_count": null,
   "id": "25edfce3-4f0f-43ef-be5e-a9a407759858",
   "metadata": {},
   "outputs": [],
   "source": []
  }
 ],
 "metadata": {
  "kernelspec": {
   "display_name": "Python 3 (ipykernel)",
   "language": "python",
   "name": "python3"
  },
  "language_info": {
   "codemirror_mode": {
    "name": "ipython",
    "version": 3
   },
   "file_extension": ".py",
   "mimetype": "text/x-python",
   "name": "python",
   "nbconvert_exporter": "python",
   "pygments_lexer": "ipython3",
   "version": "3.10.12"
  }
 },
 "nbformat": 4,
 "nbformat_minor": 5
}
