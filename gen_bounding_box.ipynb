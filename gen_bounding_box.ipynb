{
 "cells": [
  {
   "cell_type": "code",
   "execution_count": 19,
   "id": "75944e9e-7b67-43a5-9af3-1a69a6aa05e1",
   "metadata": {
    "tags": []
   },
   "outputs": [],
   "source": [
    "#take the N x 28 x 28 mask np array and create an N x 4 YOLO bounding box based on the mask's dimensions\n",
    "import numpy as np\n",
    "\n",
    "def masks_to_yolo_boxes(masks):\n",
    "    N = masks.shape[0]\n",
    "    yolo_boxes = np.zeros((N, 4), dtype=np.float32)\n",
    "    \n",
    "    for i in range(N):\n",
    "        mask = masks[i]\n",
    "        ys, xs = np.where(mask > 0)  # find nonzero pixels\n",
    "        \n",
    "        if len(xs) == 0 or len(ys) == 0:\n",
    "            # No mask -> box is all zeros\n",
    "            yolo_boxes[i] = [0, 0, 0, 0]\n",
    "            print(\"empty box where there shouldn't be\")\n",
    "            continue\n",
    "        \n",
    "        xmin, xmax = xs.min(), xs.max()\n",
    "        ymin, ymax = ys.min(), ys.max()\n",
    "        \n",
    "        x_center = (xmin + xmax) / 2.0\n",
    "        y_center = (ymin + ymax) / 2.0\n",
    "        width = xmax - xmin\n",
    "        height = ymax - ymin\n",
    "        \n",
    "        # Normalize by the size (28)\n",
    "        yolo_boxes[i, 0] = x_center / 28.0\n",
    "        yolo_boxes[i, 1] = y_center / 28.0\n",
    "        yolo_boxes[i, 2] = width / 28.0\n",
    "        yolo_boxes[i, 3] = height / 28.0\n",
    "    \n",
    "    return yolo_boxes\n",
    "\n",
    "# Example usage\n",
    "# yolo_bboxes = masks_to_yolo_bboxes(masks)\n"
   ]
  },
  {
   "cell_type": "code",
   "execution_count": 20,
   "id": "c939971d-3d33-41dc-a9e9-069ad4fc12d6",
   "metadata": {
    "tags": []
   },
   "outputs": [
    {
     "name": "stdout",
     "output_type": "stream",
     "text": [
      "Finished with 10: (70000, 4)\n",
      "Finished with 15: (70000, 4)\n",
      "Finished with 20: (70000, 4)\n",
      "Finished with 25: (70000, 4)\n",
      "Finished with 30: (70000, 4)\n",
      "Finished with 35: (70000, 4)\n",
      "Finished with 40: (70000, 4)\n",
      "Finished with 45: (70000, 4)\n",
      "Finished with 50: (70000, 4)\n",
      "Finished with 55: (70000, 4)\n",
      "Finished with 60: (70000, 4)\n",
      "Finished with 65: (70000, 4)\n",
      "Finished with 70: (70000, 4)\n"
     ]
    }
   ],
   "source": [
    "for i in range (10, 71, 5): \n",
    "    current_mask = np.load('mask/mask_' + str(i) + '.npy')\n",
    "    yolo_box = masks_to_yolo_boxes(current_mask)\n",
    "    np.save(\"yolo_boxes/boxes_\" + str(i), yolo_box)\n",
    "    print(f\"Finished with {i}: {yolo_box.shape}\")"
   ]
  },
  {
   "cell_type": "code",
   "execution_count": 15,
   "id": "1f6ccf72-cf27-4c86-9f99-5dee7a1cd8ca",
   "metadata": {
    "tags": []
   },
   "outputs": [
    {
     "name": "stdout",
     "output_type": "stream",
     "text": [
      "[[0 0 0 0 0 0 0 0 0 0 0 0 0 0 0 0 0 0 0 0 0 0 0 0 0 0 0 0]\n",
      " [0 0 0 0 0 0 0 0 0 0 0 0 0 0 0 0 0 0 0 0 0 0 0 0 0 0 0 0]\n",
      " [0 0 0 0 0 0 0 0 0 0 0 0 0 0 0 0 0 0 0 0 0 0 0 0 0 0 0 0]\n",
      " [0 0 0 0 0 0 0 0 0 0 0 0 0 0 0 0 0 0 0 0 0 0 0 0 0 0 0 0]\n",
      " [0 0 0 0 0 0 0 0 0 0 0 0 0 0 0 0 0 0 0 0 0 0 0 0 0 0 0 0]\n",
      " [0 0 0 0 0 0 0 0 0 0 0 0 0 0 0 0 0 0 0 0 0 0 0 0 0 0 0 0]\n",
      " [0 0 0 0 0 0 0 0 0 0 0 0 0 0 0 0 0 0 0 0 0 0 0 0 0 0 0 0]\n",
      " [0 0 0 0 0 0 0 0 0 0 0 0 0 0 0 0 0 0 0 0 0 0 0 0 0 0 0 0]\n",
      " [0 0 0 0 0 0 0 0 0 0 0 0 0 0 0 0 0 0 0 0 0 0 0 0 0 0 0 0]\n",
      " [0 0 0 0 0 0 0 0 0 0 0 0 0 0 0 0 0 0 0 0 0 0 0 0 0 0 0 0]\n",
      " [0 0 0 0 0 0 0 0 0 0 0 0 0 0 0 0 0 0 0 0 0 0 0 0 0 0 0 0]\n",
      " [0 0 0 0 0 0 0 0 0 0 0 0 0 0 0 0 0 0 0 0 0 0 0 0 0 0 0 0]\n",
      " [0 0 0 0 0 0 0 0 0 0 0 0 0 0 0 0 0 0 0 0 0 0 0 0 0 0 0 0]\n",
      " [0 0 0 0 0 0 0 0 0 0 0 0 0 0 0 0 0 0 0 0 0 0 0 0 0 0 0 0]\n",
      " [0 0 0 0 0 0 0 0 0 0 0 0 0 0 0 0 0 0 0 0 0 0 0 0 0 0 0 0]\n",
      " [0 0 0 0 0 0 0 0 0 0 0 0 0 0 0 0 0 0 0 0 0 0 0 0 0 0 0 0]\n",
      " [0 0 0 0 0 0 0 0 0 0 0 0 0 0 0 0 0 0 0 0 0 0 0 0 0 0 0 0]\n",
      " [0 0 0 0 0 0 0 0 0 0 0 0 0 0 0 0 0 0 0 0 0 0 0 0 0 0 0 0]\n",
      " [0 0 0 0 0 0 0 0 0 0 0 0 0 0 0 0 0 0 0 0 0 0 0 0 0 0 0 0]\n",
      " [0 0 0 0 0 0 0 0 0 0 0 0 0 0 0 0 0 0 0 0 0 0 0 0 0 0 0 0]\n",
      " [0 0 0 0 0 0 0 0 0 0 0 0 0 0 0 0 0 0 0 0 0 0 0 0 0 0 0 0]\n",
      " [0 0 0 0 0 0 0 0 0 0 0 0 0 0 0 0 0 0 0 0 0 0 0 0 0 0 0 0]\n",
      " [0 0 0 0 0 0 0 0 0 0 0 0 0 0 0 0 0 0 0 0 0 0 0 0 0 0 0 0]\n",
      " [0 0 0 0 0 0 0 0 0 0 0 0 0 0 0 0 0 0 0 0 0 0 0 0 0 0 0 0]\n",
      " [0 0 0 0 0 0 0 0 0 0 0 0 0 0 0 0 0 0 0 0 0 0 0 0 0 0 0 0]\n",
      " [0 0 0 0 0 0 0 0 0 0 0 0 0 0 0 0 0 0 0 0 0 0 0 0 0 0 0 0]\n",
      " [0 0 0 0 0 0 0 0 0 0 0 0 0 0 0 0 0 0 0 0 0 0 0 0 0 0 0 0]\n",
      " [0 0 0 0 0 0 0 0 0 0 0 0 0 0 0 0 0 0 0 0 0 0 0 0 0 0 0 0]]\n",
      "784\n",
      "p\n"
     ]
    }
   ],
   "source": [
    "current_mask = np.load('mask/mask_' + \"10\" + '.npy')\n",
    "print(current_mask[2])\n",
    "print(np.count_nonzero(current_mask[2] == 0))\n",
    "current_type = np.load(\"mask/obfuscation_type_10.npy\")\n",
    "print(current_type[0])"
   ]
  },
  {
   "cell_type": "code",
   "execution_count": 18,
   "id": "0e59eded-29e3-4994-bc4b-02c5284cd7a2",
   "metadata": {},
   "outputs": [
    {
     "name": "stdout",
     "output_type": "stream",
     "text": [
      "[703 706 720 ... 703 706 703]\n",
      "Number of empty masks in 10 : 0\n",
      "[671 684 666 ... 666 671 666]\n",
      "Number of empty masks in 15 : 0\n",
      "[635 631 635 ... 631 635 635]\n",
      "Number of empty masks in 20 : 0\n",
      "[587 588 594 ... 603 588 588]\n",
      "Number of empty masks in 25 : 0\n",
      "[559 556 549 ... 549 531 531]\n",
      "Number of empty masks in 30 : 0\n",
      "[510 531 510 ... 531 509 509]\n",
      "Number of empty masks in 35 : 0\n",
      "[495 467 467 ... 495 480 480]\n",
      "Number of empty masks in 40 : 0\n",
      "[460 432 460 ... 434 432 432]\n",
      "Number of empty masks in 45 : 0\n",
      "[407 393 393 ... 393 407 407]\n",
      "Number of empty masks in 50 : 0\n",
      "[354 392 354 ... 343 343 376]\n",
      "Number of empty masks in 55 : 0\n",
      "[343 343 314 ... 343 343 343]\n",
      "Number of empty masks in 60 : 0\n",
      "[255 255 313 ... 275 255 275]\n",
      "Number of empty masks in 65 : 0\n",
      "[255 235 274 ... 255 235 255]\n",
      "Number of empty masks in 70 : 0\n"
     ]
    }
   ],
   "source": [
    "for i in range (10, 71, 5): \n",
    "    current_mask = np.load('mask/mask_' + str(i) + '.npy')\n",
    "    zero_counts = np.count_nonzero(current_mask == 0, axis=(1, 2))\n",
    "    num_full_zero = np.sum(zero_counts == 784)\n",
    "    print(zero_counts)\n",
    "    print(f\"Number of empty masks in {i} : {num_full_zero}\")"
   ]
  },
  {
   "cell_type": "code",
   "execution_count": null,
   "id": "cefccfd6-cfe0-40c3-9ddb-f398fe036d05",
   "metadata": {},
   "outputs": [],
   "source": []
  }
 ],
 "metadata": {
  "kernelspec": {
   "display_name": "Python 3 (ipykernel)",
   "language": "python",
   "name": "python3"
  },
  "language_info": {
   "codemirror_mode": {
    "name": "ipython",
    "version": 3
   },
   "file_extension": ".py",
   "mimetype": "text/x-python",
   "name": "python",
   "nbconvert_exporter": "python",
   "pygments_lexer": "ipython3",
   "version": "3.10.12"
  }
 },
 "nbformat": 4,
 "nbformat_minor": 5
}
