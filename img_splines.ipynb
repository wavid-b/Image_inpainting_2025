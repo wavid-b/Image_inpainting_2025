{
 "cells": [
  {
   "cell_type": "code",
   "execution_count": 1,
   "id": "e2b95008",
   "metadata": {
    "tags": []
   },
   "outputs": [],
   "source": [
    "import pandas as pd\n",
    "import numpy as np\n",
    "from scipy import interpolate \n",
    "import math\n",
    "import os\n",
    "from pathlib import Path\n"
   ]
  },
  {
   "cell_type": "code",
   "execution_count": 2,
   "id": "b6327457",
   "metadata": {},
   "outputs": [],
   "source": [
    "pixels_affected = {10: 78, 15: 118, 20: 157, 25: 196, 30: 235, 35: 274, 40: 313, 45: 352, 50: 391, 55: 430, 60: 470, 65: 509, 70: 549}\n",
    "radius = {k: int(round(math.sqrt(v / math.pi))) for k, v in pixels_affected.items()}\n",
    "#this is num pixel affected by percent obfuscation "
   ]
  },
  {
   "cell_type": "code",
   "execution_count": 3,
   "id": "0766d755",
   "metadata": {},
   "outputs": [],
   "source": [
    "#Spline-based region selection \n",
    "def choose_random_region(n):\n",
    "    \"\"\"\n",
    "    Chooses a random contiguous region of 'n' pixels from a 28x28 array.\n",
    "    \"\"\"\n",
    "    array_size = 28\n",
    "    if n > array_size * array_size:\n",
    "        raise ValueError(\"n cannot be larger than the total number of pixels in the array.\")\n",
    "\n",
    "    # Create a 28x28 array of zeros\n",
    "    array = np.zeros((array_size, array_size), dtype=int)\n",
    "\n",
    "    # Randomly choose a starting point\n",
    "    start_x = np.random.randint(0, array_size)\n",
    "    start_y = np.random.randint(0, array_size)\n",
    "\n",
    "    # Use a queue to grow the region\n",
    "    region = [(start_x, start_y)]\n",
    "    array[start_x, start_y] = 1\n",
    "\n",
    "    while len(region) < n:\n",
    "        x, y = region[np.random.randint(0, len(region))]\n",
    "        neighbors = [(x + dx, y + dy) for dx, dy in [(-1, 0), (1, 0), (0, -1), (0, 1)]]\n",
    "        neighbors = [(nx, ny) for nx, ny in neighbors if 0 <= nx < array_size and 0 <= ny < array_size and array[nx, ny] == 0]\n",
    "\n",
    "        if neighbors:\n",
    "            nx, ny = neighbors[np.random.randint(0, len(neighbors))]\n",
    "            array[nx, ny] = 1\n",
    "            region.append((nx, ny))\n",
    "\n",
    "    return array"
   ]
  },
  {
   "cell_type": "code",
   "execution_count": 4,
   "id": "e4ced871",
   "metadata": {},
   "outputs": [],
   "source": [
    "#function that creates a circle of radius r at a random location in a 28x28 array\n",
    "def create_circle(radius):\n",
    "    \"\"\"\n",
    "    Creates a circle of a given radius at a random location in a 28x28 array.\n",
    "    \"\"\"\n",
    "    array_size = 28\n",
    "    array = np.zeros((array_size, array_size), dtype=int)\n",
    "\n",
    "    # Randomly choose a center point for the circle - must be able to fit the whole circle \n",
    "    center_x = np.random.randint(radius, array_size - radius)\n",
    "    center_y = np.random.randint(radius, array_size - radius)\n",
    "\n",
    "    for x in range(array_size):\n",
    "        for y in range(array_size):\n",
    "            if (x - center_x) ** 2 + (y - center_y) ** 2 <= radius ** 2:\n",
    "                array[x, y] = 1\n",
    "\n",
    "    return array\n"
   ]
  },
  {
   "cell_type": "code",
   "execution_count": 5,
   "id": "dc177bbb",
   "metadata": {},
   "outputs": [],
   "source": [
    "#function that creates a square, triangle, or pentagon (at random) with an area of n pixels at a random location in a 28x28 array\n",
    "def create_polygon(n):\n",
    "    \"\"\"\n",
    "    Creates a polygon of a given area at a random location in a 28x28 array.\n",
    "    \"\"\"\n",
    "    array_size = 28\n",
    "    array = np.zeros((array_size, array_size), dtype=int)\n",
    "\n",
    "    # Randomly choose a starting point\n",
    "    start_x = np.random.randint(0, array_size - math.ceil(math.sqrt(n)))\n",
    "    start_y = np.random.randint(0, array_size- math.ceil(math.sqrt(n)))\n",
    "\n",
    "    # Randomly choose a shape: square, triangle, or pentagon\n",
    "    shape_type = np.random.choice(['square', 'triangle', 'pentagon'])\n",
    "\n",
    "    if shape_type == 'square':\n",
    "        side_length = int(np.sqrt(n))\n",
    "        for x in range(start_x, min(start_x + side_length, array_size)):\n",
    "            for y in range(start_y, min(start_y + side_length, array_size)):\n",
    "                array[x, y] = 1\n",
    "\n",
    "    elif shape_type == 'triangle':\n",
    "        base_length = int(np.sqrt(n * 2))  # Approximate base length for triangle area\n",
    "        for x in range(start_x, min(start_x + base_length, array_size)):\n",
    "            for y in range(start_y, min(start_y + (base_length - abs(x - start_x)), array_size)):\n",
    "                if y >= start_y and y <= start_y + (base_length - abs(x - start_x)):\n",
    "                    array[x, y] = 1\n",
    "                    \n",
    "    return array"
   ]
  },
  {
   "cell_type": "code",
   "execution_count": 6,
   "id": "caa2242d",
   "metadata": {
    "tags": []
   },
   "outputs": [
    {
     "name": "stdout",
     "output_type": "stream",
     "text": [
      "10done\n",
      "15done\n",
      "20done\n",
      "25done\n",
      "30done\n",
      "35done\n",
      "40done\n",
      "45done\n",
      "50done\n",
      "55done\n",
      "60done\n",
      "65done\n",
      "70done\n"
     ]
    }
   ],
   "source": [
    "#now, we create the masks at different levels and put them in their own folders \n",
    "for i in range(10, 71, 5): \n",
    "    #make the folder if it doesn't exist\n",
    "    dir_path = Path('./mask/')\n",
    "    dir_path.mkdir(parents=True, exist_ok=True)\n",
    "    # type of obfuscation array\n",
    "    obfuscation_array = np.empty(70000, dtype=str)\n",
    "    # Preallocate big array\n",
    "    big_array = np.empty((70000, 28, 28), dtype=np.uint8)\n",
    "    #choose a random obfuscation to perform for each mnist image - 60,000 train and 10,000 test\n",
    "    for j in range(60000 + 10000):  # Total number of MNIST images\n",
    "        obfuscation_type = np.random.choice(['circle', 'region', 'polygon'])\n",
    "        if obfuscation_type == 'circle':\n",
    "            mask = create_circle(radius[i])\n",
    "        elif obfuscation_type == 'region':\n",
    "            mask = choose_random_region(pixels_affected[i])\n",
    "        elif obfuscation_type == 'polygon':\n",
    "            mask = create_polygon(pixels_affected[i])\n",
    "        #check to make sure the mask isnt empty\n",
    "        while np.count_nonzero(mask == 0) == 784:\n",
    "            obfuscation_type = np.random.choice(['circle', 'region', 'polygon'])\n",
    "            if obfuscation_type == 'circle':\n",
    "                mask = create_circle(radius[i])\n",
    "            elif obfuscation_type == 'region':\n",
    "                mask = choose_random_region(pixels_affected[i])\n",
    "            elif obfuscation_type == 'polygon':\n",
    "                mask = create_polygon(pixels_affected[i])\n",
    "        # Save the mask to the big array\n",
    "        obfuscation_array[j] = obfuscation_type\n",
    "        big_array[j] = mask\n",
    "    # Save the big array to a .npy file\n",
    "    np.save('mask/'+ 'mask_' + str(i), big_array)\n",
    "    np.save('mask/' + 'obfuscation_type_' + str(i), obfuscation_array)\n",
    "    print(str(i) + \"done\")\n",
    "\n",
    "        "
   ]
  },
  {
   "cell_type": "code",
   "execution_count": 7,
   "id": "8a2303f3-49ca-4bc5-a8d4-059d4a678d42",
   "metadata": {},
   "outputs": [
    {
     "name": "stdout",
     "output_type": "stream",
     "text": [
      "[[0 0 0 0 0 0 0 0 0 0 0 0 0 0 0 0 0 0 0 0 0 0 0 0 0 0 0 0]\n",
      " [0 0 0 0 0 0 0 0 0 0 0 0 0 0 0 0 0 0 0 0 0 0 0 0 0 0 0 0]\n",
      " [0 0 0 0 0 0 0 0 0 0 0 0 0 0 0 0 0 0 0 0 0 0 0 0 0 0 0 0]\n",
      " [0 0 0 0 0 0 0 0 0 0 0 0 0 0 0 0 0 0 0 0 0 0 0 0 0 0 0 0]\n",
      " [0 0 0 0 0 0 0 0 0 0 0 0 0 0 0 0 0 0 0 0 0 0 0 0 0 0 0 0]\n",
      " [0 0 0 0 0 0 0 0 0 0 0 0 0 0 0 0 0 0 0 0 0 0 0 0 0 0 0 0]\n",
      " [0 0 0 0 0 0 0 0 0 0 0 0 0 0 0 0 0 0 0 0 0 0 0 0 0 0 0 0]\n",
      " [0 0 0 0 0 0 0 0 0 0 0 0 0 0 0 0 0 0 0 0 0 0 0 0 0 0 0 0]\n",
      " [0 0 0 0 0 0 0 0 0 0 0 0 0 0 0 0 0 0 0 0 0 0 0 0 0 0 0 0]\n",
      " [0 0 0 0 0 0 0 0 0 0 0 0 0 0 0 0 0 0 0 0 0 0 0 0 0 0 0 0]\n",
      " [0 0 0 0 0 0 0 0 0 0 0 0 0 0 0 0 0 0 0 0 0 0 0 0 0 0 0 0]\n",
      " [0 0 0 0 0 0 0 0 0 0 0 0 0 0 0 0 0 0 0 0 0 0 0 0 0 0 0 0]\n",
      " [0 0 0 0 0 0 0 0 0 0 0 0 0 0 0 0 0 0 0 0 0 0 0 0 0 0 0 0]\n",
      " [0 0 0 0 0 0 0 0 0 0 0 0 0 0 0 0 0 0 0 0 0 0 0 0 0 0 0 0]\n",
      " [0 0 0 0 0 0 0 0 0 0 0 0 0 0 0 0 0 0 0 0 0 0 0 0 0 0 0 0]\n",
      " [0 0 0 0 0 0 0 0 0 0 0 0 0 0 0 0 0 0 0 0 0 0 0 0 0 0 0 0]\n",
      " [0 0 0 0 0 0 0 0 0 0 0 0 0 0 0 0 0 0 0 0 0 0 0 0 0 0 0 0]\n",
      " [0 0 0 0 0 0 0 0 0 0 0 0 0 0 0 0 0 0 0 0 0 0 0 0 0 0 0 0]\n",
      " [1 1 1 1 1 1 1 1 0 0 0 0 0 0 0 0 0 0 0 0 0 0 0 0 0 0 0 0]\n",
      " [1 1 1 1 1 1 1 1 0 0 0 0 0 0 0 0 0 0 0 0 0 0 0 0 0 0 0 0]\n",
      " [1 1 1 1 1 1 1 1 0 0 0 0 0 0 0 0 0 0 0 0 0 0 0 0 0 0 0 0]\n",
      " [1 1 1 1 1 1 1 1 0 0 0 0 0 0 0 0 0 0 0 0 0 0 0 0 0 0 0 0]\n",
      " [1 1 1 1 1 1 1 1 0 0 0 0 0 0 0 0 0 0 0 0 0 0 0 0 0 0 0 0]\n",
      " [1 1 1 1 1 1 1 1 0 0 0 0 0 0 0 0 0 0 0 0 0 0 0 0 0 0 0 0]\n",
      " [1 1 1 1 1 1 1 1 0 0 0 0 0 0 0 0 0 0 0 0 0 0 0 0 0 0 0 0]\n",
      " [1 1 1 1 1 1 1 1 0 0 0 0 0 0 0 0 0 0 0 0 0 0 0 0 0 0 0 0]\n",
      " [0 0 0 0 0 0 0 0 0 0 0 0 0 0 0 0 0 0 0 0 0 0 0 0 0 0 0 0]\n",
      " [0 0 0 0 0 0 0 0 0 0 0 0 0 0 0 0 0 0 0 0 0 0 0 0 0 0 0 0]]\n"
     ]
    }
   ],
   "source": [
    "print(create_polygon(78))"
   ]
  },
  {
   "cell_type": "code",
   "execution_count": null,
   "id": "6dd8dfdd-d13e-4f56-87c7-fa6f295827a1",
   "metadata": {},
   "outputs": [],
   "source": []
  }
 ],
 "metadata": {
  "kernelspec": {
   "display_name": "Python 3 (ipykernel)",
   "language": "python",
   "name": "python3"
  },
  "language_info": {
   "codemirror_mode": {
    "name": "ipython",
    "version": 3
   },
   "file_extension": ".py",
   "mimetype": "text/x-python",
   "name": "python",
   "nbconvert_exporter": "python",
   "pygments_lexer": "ipython3",
   "version": "3.10.12"
  }
 },
 "nbformat": 4,
 "nbformat_minor": 5
}
