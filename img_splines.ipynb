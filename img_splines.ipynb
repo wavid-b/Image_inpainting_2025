{
 "cells": [
  {
   "cell_type": "code",
   "execution_count": null,
   "id": "e2b95008",
   "metadata": {},
   "outputs": [],
   "source": [
    "import pandas as pd\n",
    "import numpy as np\n",
    "from scipy import interpolate \n",
    "import math\n",
    "\n"
   ]
  },
  {
   "cell_type": "code",
   "execution_count": null,
   "id": "b6327457",
   "metadata": {},
   "outputs": [],
   "source": [
    "pixels_affected = {10: 78, 15: 118, 20: 157, 25: 196, 30: 235, 35: 274, 40: 313, 45: 352, 50: 391, 55: 430, 61: 470, 65: 509, 70: 549}\n",
    "radius = {k: int(round(math.sqrt(v / math.pi))) for k, v in pixels_affected.items()}\n",
    "#this is num pixel affected by percent obfuscation "
   ]
  },
  {
   "cell_type": "code",
   "execution_count": null,
   "id": "0766d755",
   "metadata": {},
   "outputs": [],
   "source": [
    "#Spline-based region selection \n",
    "def choose_random_region(n):\n",
    "    \"\"\"\n",
    "    Chooses a random contiguous region of 'n' pixels from a 28x28 array.\n",
    "    \"\"\"\n",
    "    array_size = 28\n",
    "    if n > array_size * array_size:\n",
    "        raise ValueError(\"n cannot be larger than the total number of pixels in the array.\")\n",
    "\n",
    "    # Create a 28x28 array of zeros\n",
    "    array = np.zeros((array_size, array_size), dtype=int)\n",
    "\n",
    "    # Randomly choose a starting point\n",
    "    start_x = np.random.randint(0, array_size)\n",
    "    start_y = np.random.randint(0, array_size)\n",
    "\n",
    "    # Use a queue to grow the region\n",
    "    region = [(start_x, start_y)]\n",
    "    array[start_x, start_y] = 1\n",
    "\n",
    "    while len(region) < n:\n",
    "        x, y = region[np.random.randint(0, len(region))]\n",
    "        neighbors = [(x + dx, y + dy) for dx, dy in [(-1, 0), (1, 0), (0, -1), (0, 1)]]\n",
    "        neighbors = [(nx, ny) for nx, ny in neighbors if 0 <= nx < array_size and 0 <= ny < array_size and array[nx, ny] == 0]\n",
    "\n",
    "        if neighbors:\n",
    "            nx, ny = neighbors[np.random.randint(0, len(neighbors))]\n",
    "            array[nx, ny] = 1\n",
    "            region.append((nx, ny))\n",
    "\n",
    "    return array"
   ]
  },
  {
   "cell_type": "code",
   "execution_count": null,
   "id": "e4ced871",
   "metadata": {},
   "outputs": [],
   "source": [
    "#function that creates a circle of radius r at a random location in a 28x28 array\n",
    "def create_circle(radius):\n",
    "    \"\"\"\n",
    "    Creates a circle of a given radius at a random location in a 28x28 array.\n",
    "    \"\"\"\n",
    "    array_size = 28\n",
    "    array = np.zeros((array_size, array_size), dtype=int)\n",
    "\n",
    "    # Randomly choose a center point for the circle - must be able to fit the whole circle \n",
    "    center_x = np.random.randint(radius, array_size - radius)\n",
    "    center_y = np.random.randint(radius, array_size - radius)\n",
    "\n",
    "    for x in range(array_size):\n",
    "        for y in range(array_size):\n",
    "            if (x - center_x) ** 2 + (y - center_y) ** 2 <= radius ** 2:\n",
    "                array[x, y] = 1\n",
    "\n",
    "    return array\n"
   ]
  },
  {
   "cell_type": "code",
   "execution_count": null,
   "id": "dc177bbb",
   "metadata": {},
   "outputs": [],
   "source": [
    "#function that creates a square, triangle, or pentagon (at random) with an area of n pixels at a random location in a 28x28 array\n",
    "def create_polygon(n):\n",
    "    \"\"\"\n",
    "    Creates a polygon of a given area at a random location in a 28x28 array.\n",
    "    \"\"\"\n",
    "    array_size = 28\n",
    "    array = np.zeros((array_size, array_size), dtype=int)\n",
    "\n",
    "    # Randomly choose a starting point\n",
    "    start_x = np.random.randint(0, array_size)\n",
    "    start_y = np.random.randint(0, array_size)\n",
    "\n",
    "    # Randomly choose a shape: square, triangle, or pentagon\n",
    "    shape_type = np.random.choice(['square', 'triangle', 'pentagon'])\n",
    "\n",
    "    if shape_type == 'square':\n",
    "        side_length = int(np.sqrt(n))\n",
    "        for x in range(start_x, min(start_x + side_length, array_size)):\n",
    "            for y in range(start_y, min(start_y + side_length, array_size)):\n",
    "                array[x, y] = 1\n",
    "\n",
    "    elif shape_type == 'triangle':\n",
    "        base_length = int(np.sqrt(n * 2))  # Approximate base length for triangle area\n",
    "        for x in range(start_x, min(start_x + base_length, array_size)):\n",
    "            for y in range(start_y, min(start_y + (base_length - abs(x - start_x)), array_size)):\n",
    "                if y >= start_y and y <= start_y + (base_length - abs(x - start_x)):\n",
    "                    array[x, y] = 1\n",
    "                    \n",
    "    return array"
   ]
  },
  {
   "cell_type": "code",
   "execution_count": null,
   "id": "caa2242d",
   "metadata": {},
   "outputs": [],
   "source": [
    "#now we actually use mnist to create the dataset - obscure the images at different levels of obfuscation and save them to their corresponding folders\n"
   ]
  }
 ],
 "metadata": {
  "kernelspec": {
   "display_name": "Python 3",
   "language": "python",
   "name": "python3"
  },
  "language_info": {
   "codemirror_mode": {
    "name": "ipython",
    "version": 3
   },
   "file_extension": ".py",
   "mimetype": "text/x-python",
   "name": "python",
   "nbconvert_exporter": "python",
   "pygments_lexer": "ipython3",
   "version": "3.12.0"
  }
 },
 "nbformat": 4,
 "nbformat_minor": 5
}
