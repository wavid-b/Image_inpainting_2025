{
 "cells": [
  {
   "cell_type": "code",
   "execution_count": 1,
   "id": "1d9da1aa-42aa-4b40-ad32-75594d642713",
   "metadata": {
    "tags": []
   },
   "outputs": [],
   "source": [
    "import numpy as np\n",
    "from scipy.ndimage import generic_filter\n",
    "from skimage.metrics import structural_similarity as ssim\n",
    "import cv2\n",
    "import matplotlib.pyplot as plt\n",
    "\n",
    "def patch_inpaint(images, masks, patch_size=3):\n",
    "    N, H, W = images.shape\n",
    "    pad = patch_size // 2\n",
    "    inpainted = images.copy()\n",
    "\n",
    "    for idx in range(N):\n",
    "        img = inpainted[idx]\n",
    "        mask = masks[idx]\n",
    "\n",
    "        # Pad image and mask for border handling\n",
    "        padded_img = np.pad(img, pad, mode='reflect')\n",
    "        padded_mask = np.pad(mask, pad, mode='constant', constant_values=1)\n",
    "\n",
    "        # Function to inpaint a single pixel using neighbors\n",
    "        def inpaint_func(patch):\n",
    "            center_mask = patch[len(patch)//2]\n",
    "            if center_mask == 1:\n",
    "                # If the center pixel is masked, use mean of unmasked neighbors\n",
    "                neighbor_values = patch[:len(patch)//2] + patch[len(patch)//2+1:]\n",
    "                valid_neighbors = [v for v, m in zip(neighbor_values, patch_masks) if m == 0]\n",
    "                return np.mean(valid_neighbors) if valid_neighbors else 0\n",
    "            else:\n",
    "                return patch[len(patch)//2]  # original pixel value\n",
    "\n",
    "        # Apply filter only on masked pixels\n",
    "        for i in range(H):\n",
    "            for j in range(W):\n",
    "                if mask[i, j] == 1:\n",
    "                    # Extract patch and corresponding mask\n",
    "                    patch = padded_img[i:i+patch_size, j:j+patch_size]\n",
    "                    patch_mask = padded_mask[i:i+patch_size, j:j+patch_size].flatten()\n",
    "                    patch_values = patch.flatten()\n",
    "                    patch_masks = patch_mask\n",
    "\n",
    "                    # Use only unmasked neighbors for inpainting\n",
    "                    center_index = (patch_size * patch_size) // 2\n",
    "                    neighbors = [v for k, v in enumerate(patch_values) if k != center_index and patch_masks[k] == 0]\n",
    "\n",
    "                    if neighbors:\n",
    "                        img[i, j] = np.mean(neighbors)\n",
    "                    else:\n",
    "                        img[i, j] = 0  # fallback if no valid neighbors\n",
    "\n",
    "        inpainted[idx] = img\n",
    "\n",
    "    return inpainted\n",
    "\n",
    "#using cv2 \n",
    "def inpaint_with_cv2(images, masks, method=cv2.INPAINT_TELEA):\n",
    "    N, H, W = images.shape\n",
    "    inpainted = np.empty_like(images)\n",
    "    for i in range(N):\n",
    "        img = images[i].astype(np.uint8)\n",
    "        mask = (masks[i] > 0).astype(np.uint8) * 255\n",
    "        inpainted[i] = cv2.inpaint(img, mask, inpaintRadius=3, flags=method)\n",
    "    return inpainted\n",
    "\n",
    "#now for converting from the yolo_boxes to the box masks \n",
    "def yolo_boxes_to_masks(yolo_boxes, image_size=28):\n",
    "    \"\"\"\n",
    "    Convert N x 4 YOLO boxes (cx, cy, w, h) to N x 28 x 28 binary masks.\n",
    "\n",
    "    Parameters:\n",
    "        yolo_boxes: np.ndarray of shape (N, 4), values in [0, 1]\n",
    "        image_size: int, size of the output mask (default 28)\n",
    "\n",
    "    Returns:\n",
    "        masks: np.ndarray of shape (N, 28, 28), dtype=np.uint8\n",
    "    \"\"\"\n",
    "    N = yolo_boxes.shape[0]\n",
    "    masks = np.zeros((N, image_size, image_size), dtype=np.uint8)\n",
    "\n",
    "    for i in range(N):\n",
    "        cx, cy, w, h = yolo_boxes[i]\n",
    "        \n",
    "        # Convert normalized coordinates to pixel values\n",
    "        px = int(cx * image_size)\n",
    "        py = int(cy * image_size)\n",
    "        pw = int(w * image_size)\n",
    "        ph = int(h * image_size)\n",
    "        \n",
    "        # Calculate top-left and bottom-right corners\n",
    "        x1 = max(0, px - pw // 2)\n",
    "        y1 = max(0, py - ph // 2)\n",
    "        x2 = min(image_size, px + (pw + 1) // 2)\n",
    "        y2 = min(image_size, py + (ph + 1) // 2)\n",
    "\n",
    "        # Set the mask region to 1\n",
    "        masks[i, y1:y2, x1:x2] = 1\n",
    "\n",
    "    return masks"
   ]
  },
  {
   "cell_type": "code",
   "execution_count": 4,
   "id": "676d1aea-e5b7-4f84-bf96-fd48aa7c2b84",
   "metadata": {
    "tags": []
   },
   "outputs": [
    {
     "name": "stdout",
     "output_type": "stream",
     "text": [
      "(59995, 4)\n",
      "(59995, 28, 28)\n",
      "(59995, 28, 28)\n",
      "(59995, 28, 28)\n"
     ]
    }
   ],
   "source": [
    "#get the masks and the corrupted images, then run it through and see what happens \n",
    "true_boxes = np.load(\"yolo_boxes/boxes_true.npy\")\n",
    "print(true_boxes.shape)\n",
    "\n",
    "#make the mask from these boxes \n",
    "true_masks = yolo_boxes_to_masks(true_boxes)\n",
    "print(true_masks.shape)\n",
    "\n",
    "#get the corrupted images \n",
    "corrupted_images = np.empty((0, 28, 28))\n",
    "for i in range(0, 56000, 4615): \n",
    "    #take from i to i+4614 for the training set and set its label to 1 (for corrupted = true) \n",
    "    file_num = int((i/4615)*5 + 10) # get the number of the thing we should be on \n",
    "    current_np = np.load(\"mnist_obfuscated/mnist_\" + str(file_num) + \".npy\")\n",
    "    corrupted_images = np.concatenate((corrupted_images, current_np[i:i+4615]), axis = 0)\n",
    "\n",
    "#get the true images - should also start at 0 \n",
    "true_images = np.load(\"mnist_files/mnist_img.npy\")[:59995]\n",
    "\n",
    "\n",
    "print(true_images.shape)\n",
    "print(corrupted_images.shape)"
   ]
  },
  {
   "cell_type": "code",
   "execution_count": 8,
   "id": "8dfad3c5-8dcc-4b04-a1c0-23c2ce9db40f",
   "metadata": {},
   "outputs": [],
   "source": [
    "np.save(\"mnist_files/mnist_true_test\", true_images)\n",
    "np.save(\"mnist_files/mnist_corrupted_test\", corrupted_images)"
   ]
  },
  {
   "cell_type": "code",
   "execution_count": 43,
   "id": "0e5ee8f2-abf0-4f26-abc8-1e6dac35f791",
   "metadata": {
    "tags": []
   },
   "outputs": [
    {
     "name": "stdout",
     "output_type": "stream",
     "text": [
      "0.5454853757530561\n"
     ]
    }
   ],
   "source": [
    "#for pulling up information again without overwriting the current inpainted_images var \n",
    "inpainted_image2 = np.load(\"mnist_files/Telea_inpainted_test.npy\")\n",
    "ssim_scores2 = [ssim(inpainted_image2[i], true_images[i], data_range = 255.0) for i in range(inpainted_images.shape[0])]\n",
    "print(np.mean(ssim_scores2))"
   ]
  },
  {
   "cell_type": "code",
   "execution_count": 39,
   "id": "4d60b1e3-1e9f-4723-8cd2-b92bc41436a5",
   "metadata": {
    "tags": []
   },
   "outputs": [],
   "source": [
    "inpainted_images = patch_inpaint(corrupted_images, true_fitted_mask)\n",
    "\n"
   ]
  },
  {
   "cell_type": "code",
   "execution_count": 40,
   "id": "5f53d604-d8b9-41ab-b3ca-b5d7ec6d36d3",
   "metadata": {
    "tags": []
   },
   "outputs": [],
   "source": [
    "np.save(\"mnist_files/patch_inpainted_test\", inpainted_images)\n"
   ]
  },
  {
   "cell_type": "code",
   "execution_count": 41,
   "id": "b2ce5f62-ad13-4001-aad4-ba3df95f5d43",
   "metadata": {
    "tags": []
   },
   "outputs": [
    {
     "name": "stdout",
     "output_type": "stream",
     "text": [
      "59995\n",
      "0.5587106849919303\n"
     ]
    }
   ],
   "source": [
    "print(inpainted_images.shape[0])\n",
    "ssim_scores = [ssim(inpainted_images[i], true_images[i], data_range = 255.0) for i in range(inpainted_images.shape[0])]\n",
    "print(np.mean(ssim_scores))"
   ]
  },
  {
   "cell_type": "code",
   "execution_count": 15,
   "id": "13d81852-5bf9-43f5-aa6d-85b4b5240a1d",
   "metadata": {
    "tags": []
   },
   "outputs": [
    {
     "name": "stdout",
     "output_type": "stream",
     "text": [
      "0.9003264681920201\n"
     ]
    }
   ],
   "source": [
    "print(np.mean(ssim_scores[:4615]))"
   ]
  },
  {
   "cell_type": "code",
   "execution_count": 16,
   "id": "d5570778-5660-4f5a-87c9-6aa46d3f4a5a",
   "metadata": {
    "tags": []
   },
   "outputs": [
    {
     "name": "stdout",
     "output_type": "stream",
     "text": [
      "0.5199570844814652\n",
      "0.8766186129747422\n"
     ]
    }
   ],
   "source": [
    "pre_inpainted_ssim_scores = [ssim(corrupted_images[i], true_images[i], data_range = 255.0) for i in range(inpainted_images.shape[0])]\n"
   ]
  },
  {
   "cell_type": "code",
   "execution_count": 50,
   "id": "dec0329a-0a42-461b-8820-c5b71986cf79",
   "metadata": {
    "tags": []
   },
   "outputs": [
    {
     "name": "stdout",
     "output_type": "stream",
     "text": [
      "0.5199570844814652\n",
      "[0.9076302324770678, 0.8521227660745895, 0.7883481937475323, 0.7179064428050609, 0.6365740459280101, 0.6062196058840107, 0.5292826934865673, 0.4526471936797888, 0.4308484224992568, 0.3753281869298855, 0.3485430390632595, 0.32161519714013753, 0.2961728851799279]\n"
     ]
    }
   ],
   "source": [
    "print(np.mean(pre_inpainted_ssim_scores))\n",
    "split_by_level = []\n",
    "for i in range(0, 56000, 4615):\n",
    "    split_by_level.append(np.mean(ssim_scores[i:i+4615]))\n",
    "print(split_by_level)"
   ]
  },
  {
   "cell_type": "code",
   "execution_count": 6,
   "id": "7f3c6aa4-881e-4803-ae88-51ef9c881dd6",
   "metadata": {
    "tags": []
   },
   "outputs": [],
   "source": [
    "np.save(\"mnist_files/true_masks_test\", true_masks)\n"
   ]
  },
  {
   "cell_type": "code",
   "execution_count": 9,
   "id": "1f448e00-a41a-47ed-a4dc-e85b2a940a97",
   "metadata": {
    "tags": []
   },
   "outputs": [
    {
     "name": "stdout",
     "output_type": "stream",
     "text": [
      "(59995, 28, 28)\n"
     ]
    }
   ],
   "source": [
    "true_fitted_mask = np.empty((0, 28, 28)) \n",
    "for i in range(0, 56000, 4615): \n",
    "    file_num = int((i/4615)*5 + 10) # get the number of the thing we should be on \n",
    "    current_np = np.load(\"mask/mask_\" + str(file_num) + \".npy\")\n",
    "    true_fitted_mask = np.concatenate((true_fitted_mask, current_np[i:i+4615]), axis = 0)\n",
    "print(true_fitted_mask.shape)\n",
    "np.save(\"mnist_files/true_fitted_mask_test\", true_fitted_mask)\n"
   ]
  },
  {
   "cell_type": "code",
   "execution_count": 7,
   "id": "592a8100-463b-4239-a732-3fcff2173814",
   "metadata": {
    "tags": []
   },
   "outputs": [],
   "source": [
    "import numpy as np\n",
    "\n",
    "def mae_grayscale(I: np.ndarray, K: np.ndarray) -> float:\n",
    "    \"\"\"\n",
    "    Compute Mean Absolute Error between two grayscale images.\n",
    "    \n",
    "    Args:\n",
    "      I: Ground-truth image, shape (H, W).\n",
    "      K: Predicted image, shape (H, W).\n",
    "    \n",
    "    Returns:\n",
    "      MAE value (float).\n",
    "    \"\"\"\n",
    "    # Ensure float computation\n",
    "    I = I.astype(np.float32)\n",
    "    K = K.astype(np.float32)\n",
    "    # Compute absolute differences\n",
    "    abs_diff = np.abs(I - K)\n",
    "    # Return mean over all pixels\n",
    "    return abs_diff.mean() /255  # for [0-1 value]"
   ]
  },
  {
   "cell_type": "code",
   "execution_count": 46,
   "id": "3e920819-b572-4667-aa6a-9a10c47dae3d",
   "metadata": {
    "tags": []
   },
   "outputs": [],
   "source": [
    "mae_scores = [mae_grayscale(inpainted_images[i], true_images[i]) for i in range(inpainted_images.shape[0])]"
   ]
  },
  {
   "cell_type": "code",
   "execution_count": 47,
   "id": "d1b96a8b-a405-47b2-a7ed-50143e6b43dc",
   "metadata": {
    "tags": []
   },
   "outputs": [
    {
     "name": "stdout",
     "output_type": "stream",
     "text": [
      "0.07611158761773404\n"
     ]
    }
   ],
   "source": [
    "print(sum(mae_scores)/len(mae_scores))"
   ]
  },
  {
   "cell_type": "code",
   "execution_count": 48,
   "id": "bd5f3ac2-f7aa-4ab6-abd3-23b5f81e51d9",
   "metadata": {
    "tags": []
   },
   "outputs": [],
   "source": [
    "#make the graph for splitting by occlusion size \n",
    "mae_split_scores = []\n",
    "keys = [5*i + 10 for i in range(0, 13)]\n",
    "for i in range(0, 56000, 4615):\n",
    "    mae_split_scores.append(1 - np.mean(mae_scores[i:i+4615]))\n"
   ]
  },
  {
   "cell_type": "code",
   "execution_count": 52,
   "id": "ebf83d39-c90f-414b-8886-7b149f8a6ff8",
   "metadata": {
    "tags": []
   },
   "outputs": [
    {
     "name": "stderr",
     "output_type": "stream",
     "text": [
      "No artists with labels found to put in legend.  Note that artists whose label start with an underscore are ignored when legend() is called with no argument.\n"
     ]
    },
    {
     "data": {
      "image/png": "[encoded data removed]",
      "text/plain": [
       "<Figure size 576x360 with 1 Axes>"
      ]
     },
     "metadata": {
      "needs_background": "light"
     },
     "output_type": "display_data"
    }
   ],
   "source": [
    "plt.figure(figsize=(8, 5))\n",
    "plt.scatter(keys, mae_split_scores, color='skyblue', edgecolor='black')\n",
    "plt.scatter(keys, split_by_level, color='red', edgecolor='black')\n",
    "plt.title(\"SSIM and 1-MAE vs Overlap with Mask: Patch (Criminisi)\")\n",
    "plt.xlabel(\"Level of Occlusion\")\n",
    "plt.ylabel(\"SSIM and MAE\")\n",
    "plt.xticks(rotation=45, ha='right')\n",
    "plt.legend()\n",
    "plt.tight_layout()\n",
    "plt.savefig(\"mnist_obfuscated/Patch_inpainted.png\", dpi=300)\n",
    "plt.show()"
   ]
  },
  {
   "cell_type": "code",
   "execution_count": 54,
   "id": "4f983b69-b87a-480d-97dc-ab0eb8f609bc",
   "metadata": {
    "tags": []
   },
   "outputs": [
    {
     "ename": "ModuleNotFoundError",
     "evalue": "No module named 'lama_cleaner'",
     "output_type": "error",
     "traceback": [
      "\u001b[0;31m---------------------------------------------------------------------------\u001b[0m",
      "\u001b[0;31mModuleNotFoundError\u001b[0m                       Traceback (most recent call last)",
      "Cell \u001b[0;32mIn[54], line 1\u001b[0m\n\u001b[0;32m----> 1\u001b[0m \u001b[38;5;28;01mimport\u001b[39;00m \u001b[38;5;21;01mlama_cleaner\u001b[39;00m\n",
      "\u001b[0;31mModuleNotFoundError\u001b[0m: No module named 'lama_cleaner'"
     ]
    }
   ],
   "source": []
  },
  {
   "cell_type": "code",
   "execution_count": 55,
   "id": "c4f07802-6ffe-4a90-aff8-021627906f0a",
   "metadata": {
    "tags": []
   },
   "outputs": [
    {
     "name": "stdout",
     "output_type": "stream",
     "text": [
      "(2600, 28, 28)\n",
      "(2600, 28, 28)\n",
      "(2600, 28, 28)\n"
     ]
    }
   ],
   "source": [
    "#make smaller test set for lama \n",
    "smaller_test_mask = np.empty((0, 28, 28)) \n",
    "smaller_test_image_corrupted = np.empty((0, 28, 28)) \n",
    "smaller_test_image_true = np.empty((0, 28, 28)) \n",
    "for i in range(0, 56000, 4615): \n",
    "    smaller_test_mask = np.concatenate((smaller_test_mask, true_fitted_mask[i:i+200]), axis = 0)\n",
    "    smaller_test_image_corrupted = np.concatenate((smaller_test_image_corrupted, corrupted_images[i:i+200]), axis = 0)\n",
    "    smaller_test_image_true = np.concatenate((smaller_test_image_true, true_images[i:i+200]), axis = 0)\n",
    "\n",
    "print(smaller_test_mask.shape)\n",
    "print(smaller_test_image_true.shape)\n",
    "print(smaller_test_image_corrupted.shape)"
   ]
  },
  {
   "cell_type": "code",
   "execution_count": 56,
   "id": "8bb8188b-ab33-4160-9d3f-ddb21b2b2b94",
   "metadata": {
    "tags": []
   },
   "outputs": [],
   "source": [
    "np.save(\"mnist_files/small_test_mask\", smaller_test_mask)\n",
    "np.save(\"mnist_files/small_test_corrupt\", smaller_test_image_corrupted)\n",
    "np.save(\"mnist_files/small_test_true\", smaller_test_image_true)"
   ]
  },
  {
   "cell_type": "code",
   "execution_count": 4,
   "id": "d365f594-9364-457c-8583-b956ce5918d0",
   "metadata": {
    "tags": []
   },
   "outputs": [],
   "source": [
    "#load the lama inpainted to check its performance\n",
    "smaller_test_mask = np.load(\"mnist_files/small_test_mask.npy\")\n",
    "smaller_test_image_corrupted = np.load(\"mnist_files/small_test_corrupt.npy\")\n",
    "smaller_test_image_true = np.load(\"mnist_files/small_test_true.npy\")\n",
    "\n",
    "inpainted_images = np.load(\"mnist_files/ldm_inpainted_images.npy\")\n",
    "ssim_scores_lama = [ssim(inpainted_images[i], smaller_test_image_true[i], data_range = 255.0) for i in range(inpainted_images.shape[0])]\n"
   ]
  },
  {
   "cell_type": "code",
   "execution_count": 5,
   "id": "73455bd4-6d60-4da8-a97a-db960461ad36",
   "metadata": {
    "tags": []
   },
   "outputs": [
    {
     "name": "stdout",
     "output_type": "stream",
     "text": [
      "0.5180859900484884\n"
     ]
    }
   ],
   "source": [
    "print(np.mean(ssim_scores_lama))"
   ]
  },
  {
   "cell_type": "code",
   "execution_count": 8,
   "id": "e03d93fb-b0d0-4064-82ef-11d210be58cc",
   "metadata": {
    "tags": []
   },
   "outputs": [
    {
     "name": "stdout",
     "output_type": "stream",
     "text": [
      "0.09683044186433241\n"
     ]
    }
   ],
   "source": [
    "mae_scores_lama = [mae_grayscale(inpainted_images[i], smaller_test_image_true[i]) for i in range(inpainted_images.shape[0])]\n",
    "print(np.mean(mae_scores_lama))"
   ]
  },
  {
   "cell_type": "code",
   "execution_count": 69,
   "id": "26b3e592-2800-46c6-bf06-68fadf4f95b3",
   "metadata": {
    "tags": []
   },
   "outputs": [],
   "source": [
    "mae_split_scores_lama = []\n",
    "split_by_level_lama = []\n",
    "for i in range(0, 2600, 200):\n",
    "    mae_split_scores_lama.append(1 - np.mean(mae_scores_lama[i:i+200]))\n",
    "    split_by_level_lama.append(np.mean(ssim_scores_lama[i:i+200]))"
   ]
  },
  {
   "cell_type": "code",
   "execution_count": 70,
   "id": "65cc0a05-7b57-4bb2-8f87-1d5b86153992",
   "metadata": {
    "tags": []
   },
   "outputs": [
    {
     "name": "stderr",
     "output_type": "stream",
     "text": [
      "No artists with labels found to put in legend.  Note that artists whose label start with an underscore are ignored when legend() is called with no argument.\n"
     ]
    },
    {
     "data": {
      "image/png": "[encoded data removed]",
      "text/plain": [
       "<Figure size 576x360 with 1 Axes>"
      ]
     },
     "metadata": {
      "needs_background": "light"
     },
     "output_type": "display_data"
    }
   ],
   "source": [
    "plt.figure(figsize=(8, 5))\n",
    "plt.scatter(keys, mae_split_scores_lama, color='skyblue', edgecolor='black')\n",
    "plt.scatter(keys, split_by_level_lama, color='red', edgecolor='black')\n",
    "plt.title(\"SSIM and 1-MAE vs Overlap with Mask: LaMa (FCNN)\")\n",
    "plt.xlabel(\"Level of Occlusion\")\n",
    "plt.ylabel(\"SSIM and MAE\")\n",
    "plt.xticks(rotation=45, ha='right')\n",
    "plt.legend()\n",
    "plt.tight_layout()\n",
    "plt.savefig(\"mnist_obfuscated/lama_inpainted.png\", dpi=300)\n",
    "plt.show()"
   ]
  },
  {
   "cell_type": "code",
   "execution_count": null,
   "id": "4281f2cf-ac90-4671-985c-8822a1df86b9",
   "metadata": {},
   "outputs": [],
   "source": []
  }
 ],
 "metadata": {
  "kernelspec": {
   "display_name": "UFRC Python-3.10",
   "language": "python",
   "name": "python3-3.10-ufrc"
  },
  "language_info": {
   "codemirror_mode": {
    "name": "ipython",
    "version": 3
   },
   "file_extension": ".py",
   "mimetype": "text/x-python",
   "name": "python",
   "nbconvert_exporter": "python",
   "pygments_lexer": "ipython3",
   "version": "3.10.8"
  }
 },
 "nbformat": 4,
 "nbformat_minor": 5
}
