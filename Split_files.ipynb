{
 "cells": [
  {
   "cell_type": "code",
   "execution_count": 2,
   "id": "9e45a69d-3c39-4ac4-841d-d5b2387652c9",
   "metadata": {
    "tags": []
   },
   "outputs": [],
   "source": [
    "import os\n",
    "import numpy as np\n",
    "from PIL import Image\n",
    "\n",
    "def save_images_labels(images: np.ndarray, labels:np.ndarray, output_dir: str, label_dir, offset = 0, explicit_split = None):\n",
    "    assert images.ndim == 4 and images.shape[1] == 28 and images.shape[2] == 28 and images.shape[3] == 3, \"Input must be (N, 28, 28, 3)\"\n",
    "    assert labels.ndim == 2 and labels.shape[1] == 4, \"Labels must be (N, 4)\" \n",
    "\n",
    "    n_total = images.shape[0]\n",
    "    n_train = int(0.7 * n_total)\n",
    "    n_val = int(0.2 * n_total)\n",
    "    n_test = n_total - n_train - n_val\n",
    "\n",
    "    # Define split points\n",
    "    split_points = [0, n_train, n_train + n_val, n_total]\n",
    "    split_names = ['train', 'validation', 'test']\n",
    "\n",
    "    # Create output folders\n",
    "    for split in split_names:\n",
    "        split_path = os.path.join(output_dir, split)\n",
    "        os.makedirs(split_path, exist_ok=True)\n",
    "\n",
    "    # Save images\n",
    "    for idx in range(n_total):\n",
    "        if idx < split_points[1]:\n",
    "            split = 'train'\n",
    "        elif idx < split_points[2]:\n",
    "            split = 'validation'\n",
    "        else:\n",
    "            split = 'test'\n",
    "        if explicit_split != None: \n",
    "            split = explicit_split \n",
    "        img = Image.fromarray(images[idx].astype(np.uint8))\n",
    "        img_path = os.path.join(output_dir, split, f'image_{offset+idx:06d}.png')\n",
    "        img.save(img_path)\n",
    "        #now do the same for label - space seperates it \n",
    "        label = labels[idx]\n",
    "        label_path = os.path.join(label_dir, split, f'image_{offset+idx:06d}.txt')\n",
    "        if np.all(label == 0):\n",
    "            open(label_path, 'w').close()  # Empty label file\n",
    "        else:\n",
    "            with open(label_path, 'w') as f:\n",
    "                f.write(f\"0 {' '.join(map(str, label))}\" + '\\n')\n",
    "\n",
    "    print(f\"Saved {n_total} images into '{output_dir}' under train/validation/test folders.\")\n",
    "\n",
    "\n"
   ]
  },
  {
   "cell_type": "code",
   "execution_count": 3,
   "id": "a2f61b17-c3ec-490c-abb8-58d1e05817bc",
   "metadata": {
    "tags": []
   },
   "outputs": [],
   "source": [
    "\n",
    "def grayscale_to_rgb(grayscale_array):\n",
    "    # Assuming grayscale_array is of shape (n, 28, 28)\n",
    "    # Weights for standard grayscale to RGB conversion (luminosity method)\n",
    "    #weights = np.array([0.2989, 0.5870, 0.1140])\n",
    "    \n",
    "    # Replicate the grayscale to each channel with the weighted sum\n",
    "    rgb_array = np.stack([grayscale_array] * 3, axis=-1)\n",
    "    #rgb_array = rgb_array * weights  # Apply the weights\n",
    "    return rgb_array"
   ]
  },
  {
   "cell_type": "code",
   "execution_count": 3,
   "id": "eee1da30-93a1-4529-9bf6-960629050225",
   "metadata": {
    "tags": []
   },
   "outputs": [],
   "source": [
    "#use the noisy plus the regular mnist data as the set of images - labels should be the boxes from the masks for first 59995 + 10010 and empty for last 70000\n",
    "corrupted_imgs = np.empty((0, 28, 28))\n",
    "corrupted_labels = np.empty((0, 4))\n",
    "for i in range(0, 56000, 4615): \n",
    "    #take from i to i+4614 for the training set and set its label to 1 (for corrupted = true) \n",
    "    file_num = int((i/4615)*5 + 10) # get the number of the thing we should be on \n",
    "    current_np = np.load(\"mnist_noisy/mnist_\" + str(file_num) + \".npy\")\n",
    "    current_labels = np.load(\"yolo_boxes/boxes_\" + str(file_num) + \".npy\")\n",
    "    corrupted_imgs = np.concatenate((corrupted_imgs, current_np[i:i+4615]), axis = 0)\n",
    "    corrupted_imgs = np.concatenate((corrupted_imgs, current_np[69230:]), axis = 0)\n",
    "    corrupted_labels = np.concatenate((corrupted_labels, current_labels[i:i+4615]), axis = 0)\n",
    "    corrupted_labels = np.concatenate((corrupted_labels, current_labels[69230:]), axis = 0)\n",
    "color_img = grayscale_to_rgb(corrupted_imgs)\n",
    "save_images_labels(color_img, corrupted_labels, \"yolo_data/images3\", \"yolo_data/labels\")\n"
   ]
  },
  {
   "cell_type": "code",
   "execution_count": 4,
   "id": "e1b9fd83-1465-4d72-87a0-86417df4c6c5",
   "metadata": {
    "tags": []
   },
   "outputs": [
    {
     "name": "stdout",
     "output_type": "stream",
     "text": [
      "(70000, 4)\n"
     ]
    }
   ],
   "source": [
    "#now do this for the basic mnist with empty text files for the labels - start the file numbering at 70005\n",
    "mnist_images = np.load(\"mnist_files/mnist_img.npy\")\n",
    "mnist_labels = np.zeros((mnist_images.shape[0], 4))\n",
    "print(mnist_labels.shape)\n",
    "mnist_color = grayscale_to_rgb(mnist_images)\n",
    "\n",
    "save_images_labels(mnist_color, mnist_labels, \"yolo_data/images\", \"yolo_data/labels\", 70005)\n",
    "\n"
   ]
  },
  {
   "cell_type": "code",
   "execution_count": 7,
   "id": "63241943-5816-4919-85d7-0ef8017700cf",
   "metadata": {},
   "outputs": [],
   "source": [
    "total_test = np.concatenate((corrupted_labels, mnist_labels), axis=0)"
   ]
  },
  {
   "cell_type": "code",
   "execution_count": 10,
   "id": "e3e07a39-38a8-4403-849d-899c70be651b",
   "metadata": {
    "tags": []
   },
   "outputs": [
    {
     "name": "stdout",
     "output_type": "stream",
     "text": [
      "(140005, 4)\n",
      "(14001, 4)\n"
     ]
    }
   ],
   "source": [
    "print(total_test.shape)\n",
    "first_test = total_test[63004:70005]\n",
    "second_test = total_test[133005:140005]\n",
    "total_test = np.concatenate((first_test, second_test), axis=0)\n",
    "print(total_test.shape)\n",
    "\n"
   ]
  },
  {
   "cell_type": "code",
   "execution_count": 11,
   "id": "bfa9461b-aca2-4ad3-9d85-636fca276150",
   "metadata": {
    "tags": []
   },
   "outputs": [],
   "source": [
    "np.save(\"mnist_noisy/all_labels\", total_test) "
   ]
  },
  {
   "cell_type": "code",
   "execution_count": 16,
   "id": "0a4f2b39-0a24-49ef-a984-5ad95ad0d21d",
   "metadata": {
    "tags": []
   },
   "outputs": [
    {
     "ename": "KeyboardInterrupt",
     "evalue": "",
     "output_type": "error",
     "traceback": [
      "\u001b[0;31m---------------------------------------------------------------------------\u001b[0m",
      "\u001b[0;31mKeyboardInterrupt\u001b[0m                         Traceback (most recent call last)",
      "Cell \u001b[0;32mIn[16], line 12\u001b[0m\n\u001b[1;32m     10\u001b[0m     corrupted_labels \u001b[38;5;241m=\u001b[39m np\u001b[38;5;241m.\u001b[39mconcatenate((corrupted_labels, current_labels[i\u001b[38;5;241m+\u001b[39m\u001b[38;5;241m4615\u001b[39m:i\u001b[38;5;241m+\u001b[39m\u001b[38;5;241m9230\u001b[39m]), axis \u001b[38;5;241m=\u001b[39m \u001b[38;5;241m0\u001b[39m)\n\u001b[1;32m     11\u001b[0m color_img \u001b[38;5;241m=\u001b[39m grayscale_to_rgb(corrupted_imgs)\n\u001b[0;32m---> 12\u001b[0m \u001b[43msave_images_labels\u001b[49m\u001b[43m(\u001b[49m\u001b[43mcolor_img\u001b[49m\u001b[43m,\u001b[49m\u001b[43m \u001b[49m\u001b[43mcorrupted_labels\u001b[49m\u001b[43m,\u001b[49m\u001b[43m \u001b[49m\u001b[38;5;124;43m\"\u001b[39;49m\u001b[38;5;124;43myolo_data/images2\u001b[39;49m\u001b[38;5;124;43m\"\u001b[39;49m\u001b[43m,\u001b[49m\u001b[43m \u001b[49m\u001b[38;5;124;43m\"\u001b[39;49m\u001b[38;5;124;43myolo_data/labels2\u001b[39;49m\u001b[38;5;124;43m\"\u001b[39;49m\u001b[43m,\u001b[49m\u001b[43m \u001b[49m\u001b[43mexplicit_split\u001b[49m\u001b[43m \u001b[49m\u001b[38;5;241;43m=\u001b[39;49m\u001b[43m \u001b[49m\u001b[38;5;124;43m\"\u001b[39;49m\u001b[38;5;124;43mtest\u001b[39;49m\u001b[38;5;124;43m\"\u001b[39;49m\u001b[43m \u001b[49m\u001b[43m)\u001b[49m\n",
      "Cell \u001b[0;32mIn[2], line 35\u001b[0m, in \u001b[0;36msave_images_labels\u001b[0;34m(images, labels, output_dir, label_dir, offset, explicit_split)\u001b[0m\n\u001b[1;32m     33\u001b[0m img \u001b[38;5;241m=\u001b[39m Image\u001b[38;5;241m.\u001b[39mfromarray(images[idx]\u001b[38;5;241m.\u001b[39mastype(np\u001b[38;5;241m.\u001b[39muint8))\n\u001b[1;32m     34\u001b[0m img_path \u001b[38;5;241m=\u001b[39m os\u001b[38;5;241m.\u001b[39mpath\u001b[38;5;241m.\u001b[39mjoin(output_dir, split, \u001b[38;5;124mf\u001b[39m\u001b[38;5;124m'\u001b[39m\u001b[38;5;124mimage_\u001b[39m\u001b[38;5;132;01m{\u001b[39;00moffset\u001b[38;5;241m+\u001b[39midx\u001b[38;5;132;01m:\u001b[39;00m\u001b[38;5;124m06d\u001b[39m\u001b[38;5;132;01m}\u001b[39;00m\u001b[38;5;124m.png\u001b[39m\u001b[38;5;124m'\u001b[39m)\n\u001b[0;32m---> 35\u001b[0m \u001b[43mimg\u001b[49m\u001b[38;5;241;43m.\u001b[39;49m\u001b[43msave\u001b[49m\u001b[43m(\u001b[49m\u001b[43mimg_path\u001b[49m\u001b[43m)\u001b[49m\n\u001b[1;32m     36\u001b[0m \u001b[38;5;66;03m#now do the same for label - space seperates it \u001b[39;00m\n\u001b[1;32m     37\u001b[0m label \u001b[38;5;241m=\u001b[39m labels[idx]\n",
      "File \u001b[0;32m/apps/jupyter/6.5.4/lib/python3.10/site-packages/PIL/Image.py:2344\u001b[0m, in \u001b[0;36mImage.save\u001b[0;34m(self, fp, format, **params)\u001b[0m\n\u001b[1;32m   2342\u001b[0m created \u001b[38;5;241m=\u001b[39m \u001b[38;5;28;01mFalse\u001b[39;00m\n\u001b[1;32m   2343\u001b[0m \u001b[38;5;28;01mif\u001b[39;00m open_fp:\n\u001b[0;32m-> 2344\u001b[0m     created \u001b[38;5;241m=\u001b[39m \u001b[38;5;129;01mnot\u001b[39;00m \u001b[43mos\u001b[49m\u001b[38;5;241;43m.\u001b[39;49m\u001b[43mpath\u001b[49m\u001b[38;5;241;43m.\u001b[39;49m\u001b[43mexists\u001b[49m\u001b[43m(\u001b[49m\u001b[43mfilename\u001b[49m\u001b[43m)\u001b[49m\n\u001b[1;32m   2345\u001b[0m     \u001b[38;5;28;01mif\u001b[39;00m params\u001b[38;5;241m.\u001b[39mget(\u001b[38;5;124m\"\u001b[39m\u001b[38;5;124mappend\u001b[39m\u001b[38;5;124m\"\u001b[39m, \u001b[38;5;28;01mFalse\u001b[39;00m):\n\u001b[1;32m   2346\u001b[0m         \u001b[38;5;66;03m# Open also for reading (\"+\"), because TIFF save_all\u001b[39;00m\n\u001b[1;32m   2347\u001b[0m         \u001b[38;5;66;03m# writer needs to go back and edit the written data.\u001b[39;00m\n\u001b[1;32m   2348\u001b[0m         fp \u001b[38;5;241m=\u001b[39m builtins\u001b[38;5;241m.\u001b[39mopen(filename, \u001b[38;5;124m\"\u001b[39m\u001b[38;5;124mr+b\u001b[39m\u001b[38;5;124m\"\u001b[39m)\n",
      "File \u001b[0;32m/apps/jupyter/6.5.4/lib/python3.10/genericpath.py:19\u001b[0m, in \u001b[0;36mexists\u001b[0;34m(path)\u001b[0m\n\u001b[1;32m     17\u001b[0m \u001b[38;5;250m\u001b[39m\u001b[38;5;124;03m\"\"\"Test whether a path exists.  Returns False for broken symbolic links\"\"\"\u001b[39;00m\n\u001b[1;32m     18\u001b[0m \u001b[38;5;28;01mtry\u001b[39;00m:\n\u001b[0;32m---> 19\u001b[0m     \u001b[43mos\u001b[49m\u001b[38;5;241;43m.\u001b[39;49m\u001b[43mstat\u001b[49m\u001b[43m(\u001b[49m\u001b[43mpath\u001b[49m\u001b[43m)\u001b[49m\n\u001b[1;32m     20\u001b[0m \u001b[38;5;28;01mexcept\u001b[39;00m (\u001b[38;5;167;01mOSError\u001b[39;00m, \u001b[38;5;167;01mValueError\u001b[39;00m):\n\u001b[1;32m     21\u001b[0m     \u001b[38;5;28;01mreturn\u001b[39;00m \u001b[38;5;28;01mFalse\u001b[39;00m\n",
      "\u001b[0;31mKeyboardInterrupt\u001b[0m: "
     ]
    }
   ],
   "source": [
    "#generate new test files - all with occlusions none without -- for non-shuffled test cases \n",
    "corrupted_imgs = np.empty((0, 28, 28))\n",
    "corrupted_labels = np.empty((0, 4))\n",
    "for i in range(0, 56000, 4615): \n",
    "    #take from i to i+4614 for the training set and set its label to 1 (for corrupted = true) \n",
    "    file_num = int((i/4615)*5 + 10) # get the number of the thing we should be on \n",
    "    current_np = np.load(\"mnist_noisy/mnist_\" + str(file_num) + \".npy\")\n",
    "    current_labels = np.load(\"yolo_boxes/boxes_\" + str(file_num) + \".npy\")\n",
    "    corrupted_imgs = np.concatenate((corrupted_imgs, current_np[i+4615:i+9230]), axis = 0)\n",
    "    corrupted_labels = np.concatenate((corrupted_labels, current_labels[i+4615:i+9230]), axis = 0)\n",
    "color_img = grayscale_to_rgb(corrupted_imgs)\n",
    "save_images_labels(color_img, corrupted_labels, \"yolo_data/images2\", \"yolo_data/labels2\", explicit_split = \"test\" )\n"
   ]
  },
  {
   "cell_type": "code",
   "execution_count": 20,
   "id": "ff0e5ef3-5df3-4030-b69f-8e9c78eb7ffd",
   "metadata": {},
   "outputs": [
    {
     "name": "stdout",
     "output_type": "stream",
     "text": [
      "(70000, 28, 28)\n",
      "(70000, 28, 28)\n",
      "(70000, 28, 28)\n",
      "(70000, 28, 28)\n",
      "(70000, 28, 28)\n",
      "(70000, 28, 28)\n",
      "(70000, 28, 28)\n",
      "(70000, 28, 28)\n",
      "(70000, 28, 28)\n",
      "(70000, 28, 28)\n",
      "(70000, 28, 28)\n",
      "(70000, 28, 28)\n",
      "(70000, 28, 28)\n",
      "Saved 59995 images into 'yolo_data/images2' under train/validation/test folders.\n"
     ]
    }
   ],
   "source": [
    "#new training data in case it is needed \n",
    "corrupted_imgs = np.empty((0, 28, 28))\n",
    "corrupted_labels = np.empty((0, 4))\n",
    "for i in range(0, 56000, 4615): \n",
    "    #take from i to i+4614 for the training set and set its label to 1 (for corrupted = true) \n",
    "    file_num = int((i/4615)*5 + 10) # get the number of the thing we should be on \n",
    "    chunk_start = i + 2 * 4615\n",
    "    chunk_end = i + 3 * 4615\n",
    "    current_np = np.load(\"mnist_noisy/mnist_\" + str(file_num) + \".npy\")\n",
    "    current_labels = np.load(\"yolo_boxes/boxes_\" + str(file_num) + \".npy\")\n",
    "    corrupted_imgs = np.concatenate((corrupted_imgs, current_np[chunk_start:chunk_end]), axis = 0)\n",
    "    corrupted_labels = np.concatenate((corrupted_labels, current_labels[chunk_start:chunk_end]), axis = 0)\n",
    "color_img = grayscale_to_rgb(corrupted_imgs)\n",
    "save_images_labels(color_img, corrupted_labels, \"yolo_data/images2\", \"yolo_data/labels2\", explicit_split = \"train\" )"
   ]
  },
  {
   "cell_type": "code",
   "execution_count": 21,
   "id": "f411e902-f19b-41ee-9425-4fb7044630db",
   "metadata": {},
   "outputs": [
    {
     "name": "stdout",
     "output_type": "stream",
     "text": [
      "Saved 56155 images into 'yolo_data/images2' under train/validation/test folders.\n"
     ]
    }
   ],
   "source": [
    "#new training data in case it is needed \n",
    "corrupted_imgs = np.empty((0, 28, 28))\n",
    "corrupted_labels = np.empty((0, 4))\n",
    "for i in range(0, 56000, 4615): \n",
    "    #take from i to i+4614 for the training set and set its label to 1 (for corrupted = true) \n",
    "    file_num = int((i/4615)*5 + 10) # get the number of the thing we should be on \n",
    "    chunk_start = i + 3 * 4615\n",
    "    chunk_end = i + 4 * 4615\n",
    "    current_np = np.load(\"mnist_noisy/mnist_\" + str(file_num) + \".npy\")\n",
    "    current_labels = np.load(\"yolo_boxes/boxes_\" + str(file_num) + \".npy\")\n",
    "    corrupted_imgs = np.concatenate((corrupted_imgs, current_np[chunk_start:chunk_end]), axis = 0)\n",
    "    corrupted_labels = np.concatenate((corrupted_labels, current_labels[chunk_start:chunk_end]), axis = 0)\n",
    "color_img = grayscale_to_rgb(corrupted_imgs)\n",
    "save_images_labels(color_img, corrupted_labels, \"yolo_data/images2\", \"yolo_data/labels2\", explicit_split = \"validation\" )"
   ]
  },
  {
   "cell_type": "code",
   "execution_count": 25,
   "id": "87998942-4b8a-419d-9ad3-6af3201f11f7",
   "metadata": {
    "tags": []
   },
   "outputs": [
    {
     "name": "stdout",
     "output_type": "stream",
     "text": [
      "'labels' has been renamed to 'label3'.\n",
      "'labels2' has been renamed to 'labels'.\n"
     ]
    }
   ],
   "source": [
    "# %%bash\n",
    "# cd yolo_data\n",
    "# if [ -d \"images\" ]; then\n",
    "#     mv \"images\" \"images3\"\n",
    "#     echo \"'labels' has been renamed to 'label3'.\"\n",
    "# else\n",
    "#     echo \"'labels' folder does not exist.\"\n",
    "# fi\n",
    "\n",
    "# # Rename 'labels2' to 'labels'\n",
    "# if [ -d \"images2\" ]; then\n",
    "#     mv \"images2\" \"images\"\n",
    "#     echo \"'labels2' has been renamed to 'labels'.\"\n",
    "# else\n",
    "#     echo \"'labels2' folder does not exist.\"\n",
    "# fi\n",
    "# #python train.py --img 64 --batch 16 --epochs 50 --data custom_data.yaml --weights runs/train/exp2/weights/best.pt --cache\n",
    "# python detect.py --weights runs/train/exp5/weights/best.pt --source ../yolo_data/images/test --save-txt \n"
   ]
  },
  {
   "cell_type": "code",
   "execution_count": null,
   "id": "e9fbf6ab-aab7-45c4-89df-0d9f50d9909d",
   "metadata": {},
   "outputs": [],
   "source": []
  }
 ],
 "metadata": {
  "kernelspec": {
   "display_name": "Python 3 (ipykernel)",
   "language": "python",
   "name": "python3"
  },
  "language_info": {
   "codemirror_mode": {
    "name": "ipython",
    "version": 3
   },
   "file_extension": ".py",
   "mimetype": "text/x-python",
   "name": "python",
   "nbconvert_exporter": "python",
   "pygments_lexer": "ipython3",
   "version": "3.10.12"
  }
 },
 "nbformat": 4,
 "nbformat_minor": 5
}
